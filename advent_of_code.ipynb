{
 "cells": [
  {
   "cell_type": "code",
   "execution_count": null,
   "id": "dc70ce70",
   "metadata": {},
   "outputs": [],
   "source": []
  },
  {
   "cell_type": "markdown",
   "id": "44e73153",
   "metadata": {},
   "source": [
    "# Dieuveille's Advent of Code 2022  \n"
   ]
  },
  {
   "cell_type": "code",
   "execution_count": null,
   "id": "ce3d261e",
   "metadata": {},
   "outputs": [],
   "source": []
  },
  {
   "cell_type": "code",
   "execution_count": null,
   "id": "129681bf",
   "metadata": {},
   "outputs": [],
   "source": []
  },
  {
   "cell_type": "markdown",
   "id": "35622409",
   "metadata": {},
   "source": [
    "## Day 1"
   ]
  },
  {
   "cell_type": "markdown",
   "id": "85005821",
   "metadata": {},
   "source": [
    "### Task 1"
   ]
  },
  {
   "cell_type": "code",
   "execution_count": 1,
   "id": "2aa560b2",
   "metadata": {},
   "outputs": [],
   "source": [
    "with open('day1_input.txt') as f:\n",
    "    lines = f.readlines()"
   ]
  },
  {
   "cell_type": "code",
   "execution_count": 2,
   "id": "db38ee0b",
   "metadata": {
    "scrolled": true
   },
   "outputs": [],
   "source": [
    "elf_calory_lists = []\n",
    "\n",
    "# print(lines)\n",
    "\n",
    "# print(\"\\n\")\n",
    "\n",
    "temp = []\n",
    "\n",
    "for l in lines:\n",
    "#     print(l.strip())\n",
    "    if l and l!='' and l!=\"\\n\":\n",
    "        temp.append(int(l.strip()))\n",
    "    else:\n",
    "        elf_calory_lists.append(temp)\n",
    "        temp = []\n",
    "        \n",
    "# print(elf_calory_lists)\n",
    "    "
   ]
  },
  {
   "cell_type": "code",
   "execution_count": 3,
   "id": "1e75a85d",
   "metadata": {},
   "outputs": [
    {
     "name": "stdout",
     "output_type": "stream",
     "text": [
      "66719\n"
     ]
    }
   ],
   "source": [
    "biggest = 0\n",
    "\n",
    "for calory in elf_calory_lists:\n",
    "    biggest = sum(calory) if sum(calory) > biggest else biggest\n",
    "    \n",
    "print(biggest)"
   ]
  },
  {
   "cell_type": "code",
   "execution_count": null,
   "id": "8bb5c708",
   "metadata": {},
   "outputs": [],
   "source": []
  },
  {
   "cell_type": "markdown",
   "id": "743b7e21",
   "metadata": {},
   "source": [
    "### Task 2"
   ]
  },
  {
   "cell_type": "code",
   "execution_count": 4,
   "id": "0bb0598b",
   "metadata": {},
   "outputs": [
    {
     "name": "stdout",
     "output_type": "stream",
     "text": [
      "198551\n"
     ]
    }
   ],
   "source": [
    "big_three = [ sum(elf_calories) for elf_calories in elf_calory_lists ]\n",
    "    \n",
    "big_three.sort(reverse=True)\n",
    "big_three = big_three[:3]\n",
    "\n",
    "# print(big_three)\n",
    "\n",
    "big_three_sum = sum(big_three)\n",
    "\n",
    "print(big_three_sum)\n",
    "\n"
   ]
  },
  {
   "cell_type": "code",
   "execution_count": null,
   "id": "75526482",
   "metadata": {},
   "outputs": [],
   "source": []
  },
  {
   "cell_type": "code",
   "execution_count": null,
   "id": "01a78612",
   "metadata": {},
   "outputs": [],
   "source": []
  },
  {
   "cell_type": "markdown",
   "id": "96fe527c",
   "metadata": {},
   "source": [
    "## Day 2"
   ]
  },
  {
   "cell_type": "markdown",
   "id": "a726ad9d",
   "metadata": {},
   "source": [
    "### Task1"
   ]
  },
  {
   "cell_type": "code",
   "execution_count": 5,
   "id": "a77b8d1b",
   "metadata": {},
   "outputs": [],
   "source": [
    "with open('day2_input.txt') as f:\n",
    "    lines = f.readlines()"
   ]
  },
  {
   "cell_type": "code",
   "execution_count": 6,
   "id": "26d80103",
   "metadata": {},
   "outputs": [],
   "source": [
    "choices = [\n",
    "l.strip().replace('\\n', '') for l in lines if l and l != '' and l != \"\\n\"\n",
    "]\n",
    "\n",
    "# print(lines)\n",
    "\n",
    "# print(choices)\n"
   ]
  },
  {
   "cell_type": "code",
   "execution_count": 7,
   "id": "72f7fd90",
   "metadata": {},
   "outputs": [],
   "source": [
    "def round_result(the_list):\n",
    "    \"\"\"    \n",
    "    A -- Rock -- X\n",
    "    B -- Paper -- Y\n",
    "    C -- Scissors -- Z\n",
    "    \n",
    "    X -- 1 \n",
    "    Y -- 2 \n",
    "    Z -- 3 \n",
    "    \n",
    "    Loss 0\n",
    "    Draw 3 \n",
    "    Win 6\n",
    "    \"\"\"\n",
    "    score = 0\n",
    "    for x in the_list:\n",
    "        if x == \"\" : score += 0\n",
    "        elif x == \"A X\" : score += 4\n",
    "        elif x == \"A Y\" : score += 8\n",
    "        elif x == \"A Z\" : score += 3\n",
    "        elif x == \"B X\" : score += 1\n",
    "        elif x == \"B Y\" : score += 5\n",
    "        elif x == \"B Z\" : score += 9\n",
    "        elif x == \"C X\" : score += 7\n",
    "        elif x == \"C Y\" : score += 2\n",
    "        elif x == \"C Z\" : score += 6\n",
    "    return score"
   ]
  },
  {
   "cell_type": "code",
   "execution_count": 8,
   "id": "efecf9cd",
   "metadata": {},
   "outputs": [
    {
     "data": {
      "text/plain": [
       "13268"
      ]
     },
     "execution_count": 8,
     "metadata": {},
     "output_type": "execute_result"
    }
   ],
   "source": [
    "round_result(choices)"
   ]
  },
  {
   "cell_type": "code",
   "execution_count": 9,
   "id": "11c503e1",
   "metadata": {},
   "outputs": [
    {
     "data": {
      "text/plain": [
       "15"
      ]
     },
     "execution_count": 9,
     "metadata": {},
     "output_type": "execute_result"
    }
   ],
   "source": [
    "round_result([\"A Y\", \"B X\", \"C Z\"])"
   ]
  },
  {
   "cell_type": "code",
   "execution_count": null,
   "id": "b7412667",
   "metadata": {},
   "outputs": [],
   "source": []
  },
  {
   "cell_type": "markdown",
   "id": "83276963",
   "metadata": {},
   "source": [
    "### Task2"
   ]
  },
  {
   "cell_type": "code",
   "execution_count": 10,
   "id": "07acd928",
   "metadata": {},
   "outputs": [],
   "source": [
    "def round_result2(the_list):\n",
    "    \"\"\"\n",
    "    X == Loss\n",
    "    Y == Draw\n",
    "    Z == Win\n",
    "    \n",
    "    X -> Rock\n",
    "    Y ->Paper\n",
    "    Z ->Scissors\n",
    "    \n",
    "    Loss 0\n",
    "    Draw 3 \n",
    "    Win 6\n",
    "    \"\"\"\n",
    "    score = 0\n",
    "    for x in the_list:\n",
    "        if x == \"\" : score += 0\n",
    "        elif x == \"A X\" : score += 3 + 0\n",
    "        elif x == \"A Y\" : score += 1 + 3\n",
    "        elif x == \"A Z\" : score += 2 + 6\n",
    "        elif x == \"B X\" : score += 1 + 0\n",
    "        elif x == \"B Y\" : score += 2 + 3\n",
    "        elif x == \"B Z\" : score += 3 + 6\n",
    "        elif x == \"C X\" : score += 2 + 0\n",
    "        elif x == \"C Y\" : score += 3 + 3\n",
    "        elif x == \"C Z\" : score += 1 + 6\n",
    "    return score"
   ]
  },
  {
   "cell_type": "code",
   "execution_count": 11,
   "id": "1a1afe02",
   "metadata": {},
   "outputs": [
    {
     "data": {
      "text/plain": [
       "15508"
      ]
     },
     "execution_count": 11,
     "metadata": {},
     "output_type": "execute_result"
    }
   ],
   "source": [
    "round_result2(choices)"
   ]
  },
  {
   "cell_type": "code",
   "execution_count": null,
   "id": "3169f9d6",
   "metadata": {},
   "outputs": [],
   "source": []
  },
  {
   "cell_type": "code",
   "execution_count": null,
   "id": "a0528aa3",
   "metadata": {},
   "outputs": [],
   "source": []
  },
  {
   "cell_type": "code",
   "execution_count": null,
   "id": "b4d72c35",
   "metadata": {},
   "outputs": [],
   "source": []
  },
  {
   "cell_type": "markdown",
   "id": "d1f9362c",
   "metadata": {},
   "source": [
    "## Day 3"
   ]
  },
  {
   "cell_type": "markdown",
   "id": "80aadd25",
   "metadata": {},
   "source": [
    "### Task1"
   ]
  },
  {
   "cell_type": "code",
   "execution_count": 12,
   "id": "90a349a4",
   "metadata": {},
   "outputs": [],
   "source": [
    "with open('day3_input.txt') as f:\n",
    "    lines = f.readlines()\n",
    "    "
   ]
  },
  {
   "cell_type": "code",
   "execution_count": 13,
   "id": "11383918",
   "metadata": {},
   "outputs": [],
   "source": [
    "import string\n",
    "    \n",
    "def get_priority_score(the_string):\n",
    "    # lowercase_priority = list(string.ascii_lowercase)\n",
    "    # cuppercase_priority = list(string.ascii_uppercase)\n",
    "    # all_priority = lowercase_priority + cuppercase_priority\n",
    "    all_priority = list(string.ascii_letters)\n",
    "    all_priority_score = {}\n",
    "    all_priority_score = { value : index+1 for index, value in enumerate(all_priority) }\n",
    "    \n",
    "#     print(all_priority_score)\n",
    "    \n",
    "    length = len(the_string) \n",
    "        \n",
    "    for priority in all_priority_score:\n",
    "        if priority in the_string[: length // 2] and priority in the_string[length // 2 :]:\n",
    "            #  compartments_score.append(all_priority_score[priority])\n",
    "            return all_priority_score[priority]\n",
    "            \n",
    "            \n",
    "    "
   ]
  },
  {
   "cell_type": "code",
   "execution_count": 14,
   "id": "8a9a3f40",
   "metadata": {},
   "outputs": [
    {
     "name": "stdout",
     "output_type": "stream",
     "text": [
      "8085\n"
     ]
    }
   ],
   "source": [
    "### def get_priority_type(a_string):\n",
    "    \n",
    "compartments_score = [ get_priority_score(line.replace('\\n', '')) for line in lines ]\n",
    "\n",
    "# print(lines)\n",
    "    \n",
    "print(sum(compartments_score))\n"
   ]
  },
  {
   "cell_type": "code",
   "execution_count": null,
   "id": "077fc117",
   "metadata": {},
   "outputs": [],
   "source": []
  },
  {
   "cell_type": "markdown",
   "id": "9fd87cec",
   "metadata": {},
   "source": [
    "### Task 2"
   ]
  },
  {
   "cell_type": "code",
   "execution_count": 15,
   "id": "97ae740d",
   "metadata": {},
   "outputs": [],
   "source": [
    "group1 = [\"vJrwpWtwJgWrhcsFMMfFFhFp\", \"jqHRNqRjqzjGDLGLrsFMfFZSrLrFZsSL\", \"PmmdzqPrVvPwwTWBwg\"]\n",
    "group2 = [\"wMqvLMZHhHMvwLHjbvcjnnSBnvTQFn\", \"ttgJtRGJQctTZtZT\", \"CrZsJsPPZsGzwwsLwLmpwMDw\"]"
   ]
  },
  {
   "cell_type": "code",
   "execution_count": 16,
   "id": "18d932fd",
   "metadata": {},
   "outputs": [],
   "source": [
    "groups = group1 + group2\n",
    "\n"
   ]
  },
  {
   "cell_type": "code",
   "execution_count": 17,
   "id": "1446119c",
   "metadata": {},
   "outputs": [],
   "source": [
    "import string\n",
    "    \n",
    "def get_priority_score2(the_string_list):\n",
    "    all_priority = list(string.ascii_letters)\n",
    "\n",
    "    all_priority_score = {}\n",
    "    all_priority_score = { value : index+1 for index, value in enumerate(all_priority) }\n",
    "    \n",
    "    substring1, substring2, substring3 = the_string_list[0], the_string_list[1], the_string_list[2]\n",
    "\n",
    "    for priority in all_priority_score:\n",
    "        if priority in substring1 and priority in substring2 and priority in substring3:\n",
    "            return all_priority_score[priority]\n",
    "            "
   ]
  },
  {
   "cell_type": "code",
   "execution_count": 18,
   "id": "9f1cae1c",
   "metadata": {},
   "outputs": [
    {
     "name": "stdout",
     "output_type": "stream",
     "text": [
      "70\n"
     ]
    }
   ],
   "source": [
    "new_compartments_score = [ get_priority_score2(groups[x:x+3]) for x in range(0, len(groups), 3) ]\n",
    "\n",
    "    \n",
    "print(sum(new_compartments_score))"
   ]
  },
  {
   "cell_type": "code",
   "execution_count": 19,
   "id": "8bbb69a9",
   "metadata": {},
   "outputs": [
    {
     "name": "stdout",
     "output_type": "stream",
     "text": [
      "2515\n"
     ]
    }
   ],
   "source": [
    "with open('day3_input.txt') as f:\n",
    "    lines = f.readlines()\n",
    "    \n",
    "new_compartments_score = [ get_priority_score2(lines[x:x+3]) for x in range(0, len(lines), 3) ]\n",
    "\n",
    "    \n",
    "print(sum(new_compartments_score))\n"
   ]
  },
  {
   "cell_type": "code",
   "execution_count": null,
   "id": "ee527a73",
   "metadata": {},
   "outputs": [],
   "source": []
  },
  {
   "cell_type": "code",
   "execution_count": null,
   "id": "4fde9f80",
   "metadata": {},
   "outputs": [],
   "source": []
  },
  {
   "cell_type": "code",
   "execution_count": null,
   "id": "74bc5b7b",
   "metadata": {},
   "outputs": [],
   "source": []
  },
  {
   "cell_type": "markdown",
   "id": "60df5bfa",
   "metadata": {},
   "source": [
    "## Day 4"
   ]
  },
  {
   "cell_type": "markdown",
   "id": "d7738ff7",
   "metadata": {},
   "source": [
    "### Task1"
   ]
  },
  {
   "cell_type": "code",
   "execution_count": 20,
   "id": "6959936f",
   "metadata": {},
   "outputs": [],
   "source": [
    "with open('day4_input.txt') as f:\n",
    "    lines = f.readlines()\n",
    "    "
   ]
  },
  {
   "cell_type": "code",
   "execution_count": 21,
   "id": "b99fd2a6",
   "metadata": {},
   "outputs": [],
   "source": [
    "# print(lines)"
   ]
  },
  {
   "cell_type": "code",
   "execution_count": 22,
   "id": "b887c634",
   "metadata": {},
   "outputs": [
    {
     "name": "stdout",
     "output_type": "stream",
     "text": [
      "644\n"
     ]
    }
   ],
   "source": [
    "fully_contain = 0\n",
    "\n",
    "for line in lines:\n",
    "    n1, n2, n3, n4 = line.split(\",\")[0].split(\"-\")[0], line.split(\",\")[0].split(\"-\")[1], line.split(\",\")[1].split(\"-\")[0], line.split(\",\")[1].split(\"-\")[1].replace(\"\\n\", \"\")\n",
    "    \n",
    "    if (int(n1) >= int(n3) and int(n2) <= int(n4)) or (int(n3) >= int(n1) and int(n4) <= int(n2)):\n",
    "        fully_contain += 1\n",
    "\n",
    "print(fully_contain)"
   ]
  },
  {
   "cell_type": "code",
   "execution_count": null,
   "id": "23b02710",
   "metadata": {},
   "outputs": [],
   "source": []
  },
  {
   "cell_type": "markdown",
   "id": "e18e585a",
   "metadata": {},
   "source": [
    "### Task2"
   ]
  },
  {
   "cell_type": "code",
   "execution_count": 23,
   "id": "0bd1e4b8",
   "metadata": {},
   "outputs": [
    {
     "name": "stdout",
     "output_type": "stream",
     "text": [
      "926\n"
     ]
    }
   ],
   "source": [
    "overlap = 0\n",
    "\n",
    "for line in lines:\n",
    "    n1, n2, n3, n4 = line.split(\",\")[0].split(\"-\")[0], line.split(\",\")[0].split(\"-\")[1], line.split(\",\")[1].split(\"-\")[0], line.split(\",\")[1].split(\"-\")[1].replace(\"\\n\", \"\")\n",
    "    \n",
    "    for j in range(int(n1), int(n2) + 1):\n",
    "        if j >= int(n3) and j <= int(n4):\n",
    "            overlap += 1\n",
    "            break\n",
    "\n",
    "print(overlap)"
   ]
  },
  {
   "cell_type": "code",
   "execution_count": null,
   "id": "ac079562",
   "metadata": {},
   "outputs": [],
   "source": []
  },
  {
   "cell_type": "code",
   "execution_count": null,
   "id": "4f72ff48",
   "metadata": {},
   "outputs": [],
   "source": []
  },
  {
   "cell_type": "code",
   "execution_count": null,
   "id": "c422d63b",
   "metadata": {},
   "outputs": [],
   "source": []
  },
  {
   "cell_type": "markdown",
   "id": "3464555b",
   "metadata": {},
   "source": [
    "# Day5"
   ]
  },
  {
   "cell_type": "markdown",
   "id": "8d0c7895",
   "metadata": {},
   "source": [
    "### Task1"
   ]
  },
  {
   "cell_type": "code",
   "execution_count": 32,
   "id": "a82a4d4a",
   "metadata": {},
   "outputs": [],
   "source": [
    "import copy\n",
    "from collections import defaultdict\n",
    "\n",
    "def get_stack_tops(stacks: dict[int, list[str]]) -> str:\n",
    "    tops = \"\"\n",
    "    for ind in range(len(stacks)):\n",
    "        tops += stacks[ind + 1][-1]\n",
    "    return tops\n",
    "\n",
    "\n",
    "def process_instructions_9000(\n",
    "    stacks: dict[int, list[str]], instructions: list[list[int]]\n",
    ") -> dict[int, list[str]]:\n",
    "    new_stacks = copy.deepcopy(stacks)\n",
    "    for count, start, end in instructions:\n",
    "        for _ in range(count):\n",
    "            new_stacks[end].append(new_stacks[start].pop())\n",
    "    return new_stacks\n",
    "\n",
    "\n",
    "def process_instructions_9001(\n",
    "    stacks: dict[int, list[str]], instructions: list[list[int]]\n",
    ") -> dict[int, list[str]]:\n",
    "    new_stacks = copy.deepcopy(stacks)\n",
    "    for count, start, end in instructions:\n",
    "        tmp = new_stacks[start][-count:]\n",
    "        new_stacks[end].extend(tmp)\n",
    "        new_stacks[start] = new_stacks[start][:-count]\n",
    "    return new_stacks\n",
    "\n",
    "\n",
    "def parse_input(filename: str) -> tuple[dict[int, list[str]], list[list[int]]]:\n",
    "    with open(filename, \"r\", encoding=\"utf8\") as f:\n",
    "        stacks_str, commands = f.read().split(\"\\n\\n\")\n",
    "    stacks_list = stacks_str.split(\"\\n\")\n",
    "    stacks: dict[int, list[str]] = defaultdict(list)\n",
    "    for stack in stacks_list[-2::-1]:\n",
    "        for i, box in enumerate(stack[1::4]):\n",
    "            if box != \" \":\n",
    "                stacks[i + 1].append(box)\n",
    "\n",
    "    instructions = []\n",
    "    for command in commands.strip().split(\"\\n\"):\n",
    "        _, n, _, src, _, dest = command.split()\n",
    "        instructions.append(list(map(int, [n, src, dest])))\n",
    "    return stacks, instructions\n"
   ]
  },
  {
   "cell_type": "code",
   "execution_count": 33,
   "id": "a31e621c",
   "metadata": {},
   "outputs": [
    {
     "name": "stdout",
     "output_type": "stream",
     "text": [
      "VRWBSFZWM\n"
     ]
    }
   ],
   "source": [
    "\n",
    "def part_one(filename: str) -> str:\n",
    "    stacks, instructions = parse_input(filename)\n",
    "    stacks = process_instructions_9000(stacks, instructions)\n",
    "    return get_stack_tops(stacks)\n",
    "\n",
    "input_path = \"day5_input.txt\"\n",
    "print(part_one(input_path))\n",
    "\n"
   ]
  },
  {
   "cell_type": "code",
   "execution_count": null,
   "id": "6c5cc5f5",
   "metadata": {},
   "outputs": [],
   "source": []
  },
  {
   "cell_type": "markdown",
   "id": "7a099d48",
   "metadata": {},
   "source": [
    "### Task2"
   ]
  },
  {
   "cell_type": "code",
   "execution_count": 35,
   "id": "e30cd460",
   "metadata": {},
   "outputs": [
    {
     "name": "stdout",
     "output_type": "stream",
     "text": [
      "RBTWJWMCF\n"
     ]
    }
   ],
   "source": [
    "def part_two(filename: str) -> str:\n",
    "    stacks, instructions = parse_input(filename)\n",
    "    stacks = process_instructions_9001(stacks, instructions)\n",
    "    return get_stack_tops(stacks)\n",
    "\n",
    "print(part_two(input_path))"
   ]
  },
  {
   "cell_type": "code",
   "execution_count": null,
   "id": "ccae00f4",
   "metadata": {},
   "outputs": [],
   "source": []
  },
  {
   "cell_type": "code",
   "execution_count": null,
   "id": "060b66a8",
   "metadata": {},
   "outputs": [],
   "source": []
  },
  {
   "cell_type": "code",
   "execution_count": null,
   "id": "2b3c393e",
   "metadata": {},
   "outputs": [],
   "source": []
  },
  {
   "cell_type": "markdown",
   "id": "830f0fa5",
   "metadata": {},
   "source": [
    "# Day6"
   ]
  },
  {
   "cell_type": "markdown",
   "id": "59f0a323",
   "metadata": {},
   "source": [
    "### Task1"
   ]
  },
  {
   "cell_type": "code",
   "execution_count": 44,
   "id": "3facc1c5",
   "metadata": {},
   "outputs": [],
   "source": [
    "from pathlib import Path\n",
    "from collections import Counter\n",
    "\n",
    "INPUT_FILE = Path(\"day6_input.txt\")\n",
    "\n",
    "MARKER_SZ = 4\n",
    "START_MSG_SZ = 14  \n",
    "\n",
    "def process_stream(data: str, distinct_char_sz: int) -> tuple:\n",
    "    \"\"\" Process a str of data. \n",
    "    Report char position when the last distinct_char_sz chars are all different.\n",
    "    Returns: tuple: (distinct_chars, position) \"\"\"\n",
    "    last_sz_chars = \"\"\n",
    "    current_posn = 0\n",
    "    \n",
    "    stream = data[0:distinct_char_sz]\n",
    "    for i, char in enumerate(data[distinct_char_sz:]):\n",
    "        current_posn = i + distinct_char_sz\n",
    "        last_sz_chars = data[current_posn-distinct_char_sz:current_posn]\n",
    "        char_counts = Counter(last_sz_chars) # count chars in last four chars\n",
    "        if all(count == 1 for count in char_counts.values()):\n",
    "            break\n",
    "\n",
    "        stream += char\n",
    "    \n",
    "    return (last_sz_chars, current_posn)\n"
   ]
  },
  {
   "cell_type": "code",
   "execution_count": 45,
   "id": "bccab3ca",
   "metadata": {},
   "outputs": [
    {
     "name": "stdout",
     "output_type": "stream",
     "text": [
      "1093\n"
     ]
    }
   ],
   "source": [
    "with open(INPUT_FILE, mode=\"rt\") as f:\n",
    "    data = f.read()\n",
    "\n",
    "distinct_chars, current_posn = process_stream(data, MARKER_SZ)\n",
    "print(current_posn)\n"
   ]
  },
  {
   "cell_type": "code",
   "execution_count": null,
   "id": "b240853e",
   "metadata": {},
   "outputs": [],
   "source": []
  },
  {
   "cell_type": "markdown",
   "id": "eee84df3",
   "metadata": {},
   "source": [
    "### Task2"
   ]
  },
  {
   "cell_type": "code",
   "execution_count": 46,
   "id": "2e417386",
   "metadata": {},
   "outputs": [
    {
     "name": "stdout",
     "output_type": "stream",
     "text": [
      "3534\n"
     ]
    }
   ],
   "source": [
    "distinct_chars, current_posn = process_stream(data, START_MSG_SZ)\n",
    "print(current_posn)  "
   ]
  },
  {
   "cell_type": "code",
   "execution_count": null,
   "id": "b36d9456",
   "metadata": {},
   "outputs": [],
   "source": []
  },
  {
   "cell_type": "code",
   "execution_count": null,
   "id": "88f2c2cb",
   "metadata": {},
   "outputs": [],
   "source": []
  },
  {
   "cell_type": "code",
   "execution_count": null,
   "id": "023ea028",
   "metadata": {},
   "outputs": [],
   "source": []
  },
  {
   "cell_type": "markdown",
   "id": "97d58f25",
   "metadata": {},
   "source": [
    "# Day7"
   ]
  },
  {
   "cell_type": "markdown",
   "id": "fbf09f5f",
   "metadata": {},
   "source": [
    "### Task1"
   ]
  },
  {
   "cell_type": "code",
   "execution_count": 47,
   "id": "b0d34b87",
   "metadata": {},
   "outputs": [],
   "source": [
    "from __future__ import annotations\n",
    "from dataclasses import dataclass\n",
    "from pathlib import Path\n",
    "\n",
    "INPUT_FILE = Path(\"day7_input.txt\")\n",
    "\n",
    "FS_SZ = 70000000\n",
    "FREE_REQ = 30000000\n",
    "MAX_SZ = 100000\n",
    "\n",
    "@dataclass(frozen=True)\n",
    "class File:\n",
    "    \"Has name and size\"\n",
    "    name: str\n",
    "    size: int\n",
    "\n",
    "class Directory:\n",
    "    \"\"\" Represents a file system directory object. Has parent dir (if not root), subdirs, and files.\n",
    "    Knows how to return ALL directories and subdirectories.\n",
    "    Knows how to return total size occupied by this directory and all subdirectories. \"\"\"\n",
    "    def __init__(self, name: str) -> None:\n",
    "        self._name = name\n",
    "        self._files: list[File] = []     # files in this dir\n",
    "        self._dirs: list[Directory] = [] # directories in this dir\n",
    "    \n",
    "    @property\n",
    "    def name(self):\n",
    "        return self._name\n",
    "\n",
    "    def add_file(self, a_file: File):\n",
    "        \"\"\" Add a File to this directory \"\"\"\n",
    "        self._files.append(a_file)\n",
    "        \n",
    "    def add_directory(self, a_dir: Directory):\n",
    "        \"\"\" Add a Directory to this directory. Set THIS directory to be its parent dir. \"\"\"\n",
    "        self._dirs.append(a_dir)\n",
    "        a_dir.parent_dir = self    \n",
    "    \n",
    "    @property\n",
    "    def parent_dir(self):\n",
    "        \"\"\" Get the parent directory of this dir. \"\"\"\n",
    "        return self._parent_dir\n",
    "    \n",
    "    @parent_dir.setter\n",
    "    def parent_dir(self, a_dir: Directory):\n",
    "        self._parent_dir = a_dir\n",
    "    \n",
    "    @property \n",
    "    def directories(self):\n",
    "        \"\"\" Return directories at THIS level. \"\"\"\n",
    "        return self._dirs\n",
    "    \n",
    "    def get_directory(self, name: str) -> Directory:\n",
    "        \"\"\" Return a directoy by name, at THIS level. \"\"\"\n",
    "        return next(dir for dir in self.directories if dir.name == name)\n",
    "    \n",
    "    def get_all_dirs(self) -> list[Directory]:\n",
    "        \"\"\" Get ALL directories at this level and below. \"\"\"\n",
    "        all_dirs = []\n",
    "        for a_dir in self.directories:\n",
    "            all_dirs.extend(a_dir.get_all_dirs())\n",
    "        \n",
    "        all_dirs.extend(self.directories)\n",
    "        \n",
    "        return all_dirs\n",
    "    \n",
    "    @property\n",
    "    def size(self):\n",
    "        \"\"\" The sum of the files in this dir, as well as the sum of all subdirs. \"\"\"\n",
    "        return sum(file.size for file in self._files) + sum(dir.size for dir in self._dirs)\n",
    "    \n",
    "    def __repr__(self) -> str:\n",
    "        return f\"{self.__class__.__name__}(name={self.name}, size={self.size}, dirs={len(self.directories)})\"\n",
    "\n",
    "\n",
    "def fs_parse(instructions: list[str]) -> Directory:\n",
    "    \"\"\" Processes instructions, builds directory tree, and returns the root directory.\n",
    "    \n",
    "    Lines starting with $ are commands\n",
    "      $ cd ..\n",
    "      $ cd some_dir\n",
    "      $ ls \n",
    "    \n",
    "    Else, lines are listings, which show either:\n",
    "      sz some_file\n",
    "      dir some_dir\n",
    "    \"\"\"\n",
    "    root_dir = Directory(\"/\")\n",
    "    current_dir = root_dir\n",
    "    \n",
    "    for line in instructions:\n",
    "        if line.startswith(\"$\"): # this line is a command\n",
    "            cmd_line = line.split()\n",
    "            cmd = cmd_line[1]\n",
    "            if cmd == \"ls\":\n",
    "                continue # we're now in directory list mode, so skip to next line\n",
    "            if cmd == \"cd\": # Changing directory\n",
    "                arg = cmd_line[2]\n",
    "                if arg == \"..\": # Going back up a level\n",
    "                    assert current_dir.parent_dir, \"We're not at root\"\n",
    "                    current_dir = current_dir.parent_dir\n",
    "                else: # Change to named directory\n",
    "                    if arg != '/': # Changing to named dir. We need find the directory in our list.\n",
    "                        # It is possible to have multiple directories with the same name.\n",
    "                        # But directory names are unique within the current directory.\n",
    "                        current_dir = current_dir.get_directory(arg)\n",
    "                    else: # Change to root. Only happens once at the top of the instructions.\n",
    "                        current_dir = root_dir \n",
    "            else:\n",
    "                assert False, \"There is no other valid command!\"\n",
    "        else: # we must be dir listing\n",
    "            ls_line = line.split()\n",
    "            if ls_line[0] == \"dir\": # add a new directory\n",
    "                new_dir = Directory(ls_line[1])\n",
    "                current_dir.add_directory(new_dir) # add as subdirectory to current dir\n",
    "            else: # must be a file\n",
    "                file = File(ls_line[1], size=int(ls_line[0]))\n",
    "                current_dir.add_file(file)\n",
    "    \n",
    "    return root_dir         \n"
   ]
  },
  {
   "cell_type": "code",
   "execution_count": 55,
   "id": "4a88edf3",
   "metadata": {},
   "outputs": [
    {
     "name": "stdout",
     "output_type": "stream",
     "text": [
      "1443806\n"
     ]
    }
   ],
   "source": [
    "with open(INPUT_FILE, mode=\"rt\") as f:\n",
    "    data = f.read().splitlines()\n",
    "\n",
    "root_dir = fs_parse(data)\n",
    "\n",
    "# Part 1\n",
    "all_dirs = root_dir.get_all_dirs()\n",
    "\n",
    "# Find all the directories smaller than the target size, and add up their sizes\n",
    "small_dirs = [a_dir for a_dir in all_dirs if a_dir.size <= MAX_SZ]\n",
    "print(sum(dir.size for dir in small_dirs))"
   ]
  },
  {
   "cell_type": "code",
   "execution_count": null,
   "id": "489f53b0",
   "metadata": {},
   "outputs": [],
   "source": []
  },
  {
   "cell_type": "markdown",
   "id": "f69dae97",
   "metadata": {},
   "source": [
    "### Task2"
   ]
  },
  {
   "cell_type": "code",
   "execution_count": 53,
   "id": "7575effe",
   "metadata": {},
   "outputs": [
    {
     "name": "stdout",
     "output_type": "stream",
     "text": [
      "942298\n"
     ]
    }
   ],
   "source": [
    "\n",
    "# Part 2\n",
    "unused_space = FS_SZ - root_dir.size # Total FS size, minus current used\n",
    "extra_free_req = FREE_REQ - unused_space\n",
    "\n",
    "# Find all directories that would liberate enough space\n",
    "# Then we want the smallest that would be big enough.\n",
    "dirs_big_enough = [a_dir for a_dir in all_dirs if a_dir.size >= extra_free_req]\n",
    "smallest_big_dir = min(dirs_big_enough, key=lambda x: x.size)\n",
    "print(smallest_big_dir.size)\n"
   ]
  },
  {
   "cell_type": "code",
   "execution_count": null,
   "id": "a769ec95",
   "metadata": {},
   "outputs": [],
   "source": []
  },
  {
   "cell_type": "code",
   "execution_count": null,
   "id": "b0f34008",
   "metadata": {},
   "outputs": [],
   "source": []
  },
  {
   "cell_type": "code",
   "execution_count": null,
   "id": "12009386",
   "metadata": {},
   "outputs": [],
   "source": []
  },
  {
   "cell_type": "markdown",
   "id": "18e980ce",
   "metadata": {},
   "source": [
    "# Day8"
   ]
  },
  {
   "cell_type": "markdown",
   "id": "7d656df4",
   "metadata": {},
   "source": [
    "### Task1"
   ]
  },
  {
   "cell_type": "code",
   "execution_count": 2,
   "id": "cd08958b",
   "metadata": {},
   "outputs": [],
   "source": [
    "from dataclasses import dataclass\n",
    "import math\n",
    "from pathlib import Path\n",
    "from PIL import Image\n",
    "\n",
    "INPUT_FILE = Path(\"day8_input.txt\")\n",
    "\n",
    "RENDER = True\n",
    "OUTPUT_FILE = Path(\"ooutput.png\")\n",
    "\n",
    "@dataclass(frozen=True)\n",
    "class Point():\n",
    "    \"\"\" Point class \"\"\"\n",
    "    x: int\n",
    "    y: int\n",
    "\n",
    "class Grid():\n",
    "    \"\"\" Represents a grid of trees heights \"\"\"\n",
    "    \n",
    "    def __init__(self, grid_rows: list) -> None:\n",
    "        \"\"\" Expects data in the format... [[3, 0, 3, 7, 3], [2, 5, 5, 1, 2], ...] \"\"\"\n",
    "        self.rows: list[list[int]] = grid_rows\n",
    "        self.cols = list(zip(*self.rows))\n",
    "        self._width = len(self.cols)\n",
    "        self._height = len(self.rows)\n",
    "        self.size = self._width * self._height\n",
    "    \n",
    "    def height_at_point(self, point: Point) -> int:\n",
    "        return self.rows[point.y][point.x]\n",
    "\n",
    "    def is_visible(self, point: Point) -> bool:\n",
    "        \"\"\" A tree is visible if it is on any edge, \n",
    "        or if there are no taller trees in the same row or column. \"\"\"\n",
    "        \n",
    "        # check if it's on an edge\n",
    "        if point.x == 0 or point.x == self._width-1:\n",
    "            return True\n",
    "        if point.y == 0 or point.y == self._height-1:\n",
    "            return True\n",
    "        \n",
    "        value = self.height_at_point(point)\n",
    "        # Check if taller than any other tree in the row. If so, it is visible.\n",
    "        if value > max(self.rows[point.y][0:point.x]): return True\n",
    "        if value > max(self.rows[point.y][point.x+1:]): return True\n",
    "        \n",
    "        # Now check the column. \n",
    "        if value > max(self.cols[point.x][0:point.y]): return True\n",
    "        if value > max(self.cols[point.x][point.y+1:]): return True\n",
    "        \n",
    "        return False\n",
    "    \n",
    "    def get_hidden_trees(self) -> set[Point]:\n",
    "        \"\"\" Returns all locations where trees are hidden from view. \"\"\"\n",
    "        return {Point(x, y) for x in range(self._height)\n",
    "                            for y in range(self._width)\n",
    "                            if not self.is_visible(Point(x,y))}\n",
    "    \n",
    "    def get_scenic_scores(self) -> list[int]:\n",
    "        \"\"\" Returns the scenic scores for every tree in the grid \"\"\"\n",
    "        scenic_scores = []\n",
    "        \n",
    "        # process across then down\n",
    "        for y in range(self._width):\n",
    "            for x in range(self._height):\n",
    "                point = Point(x, y)\n",
    "                score = self.get_scenic_score_for_point(point)\n",
    "                scenic_scores.append(score)\n",
    "        \n",
    "        return scenic_scores\n",
    "                \n",
    "    def get_scenic_score_for_point(self, point: Point) -> int:\n",
    "        \"\"\" Scenic score is given by product of viewing distance in each of the four directions. \n",
    "        Viewing distance is given by how far away is the nearest tree that is at least as tall as this one. \n",
    "        Viewing distance is always 0 when looking out from an edge. \"\"\"\n",
    "        \n",
    "        this_value = self.height_at_point(point)\n",
    "        \n",
    "        # Use generators, since we will just keep getting the next tree\n",
    "        # until we reach a tree at least as tall. In theory, this is slightly more efficient than lists.\n",
    "        left = (x for x in reversed(self.rows[point.y][0:point.x]))\n",
    "        right = (x for x in self.rows[point.y][point.x+1:])\n",
    "        up = (y for y in reversed(self.cols[point.x][0:point.y]))\n",
    "        down = (y for y in self.cols[point.x][point.y+1:])\n",
    "        \n",
    "        viewing_distances = [] # store our four distances\n",
    "        for direction in (left, right, up, down):\n",
    "            distance = 0    # if we're on the edge, this will be the final score.\n",
    "            for value in direction:\n",
    "                if value < this_value:\n",
    "                    distance += 1\n",
    "                else: # this tree is at least as tall as our tree. We can't see past it.\n",
    "                    distance += 1 # This is the last tree we can see\n",
    "                    break # exit inner for\n",
    "\n",
    "            viewing_distances.append(distance)\n",
    "        \n",
    "        return math.prod(viewing_distances)\n",
    "            \n",
    "    def __repr__(self):\n",
    "        return (f\"{self.__class__.__name__}\" \n",
    "               + f\"(size={self.size}, rows={len(self.rows)}, cols={len(self.cols)})\")\n",
    "        \n",
    "    def render_image(self, target_width:int=600) -> Image.Image:\n",
    "        \"\"\" Render grid as a heatmap image\n",
    "        Args:\n",
    "            width (int, optional): Target width, in pxiels. Defaults to 600.\n",
    "        \"\"\"\n",
    "        scale = target_width // self._width  # our original image is only a few pixels across. We need to scale up.\n",
    "        \n",
    "        hidden_trees = self.get_hidden_trees()\n",
    "        \n",
    "        # Flatten our x,y array into a single list of height values\n",
    "        # If the tree is a hidden tree, set its height to -1 in the flattened array\n",
    "        height_values = [self.height_at_point(Point(x,y)) \n",
    "                         if Point(x,y) not in hidden_trees else -1\n",
    "                                        for y in range(self._height) \n",
    "                                        for x in range(self._width)]\n",
    "        \n",
    "        max_height = max(height_values)\n",
    "\n",
    "        # create a new list of RGB values, where each is given by an (R,G,B) tuple.\n",
    "        # To achieve a yellow->amber->red effect, we want R to always be 255, B to always be 0, and G to vary based on height\n",
    "        pixel_colour_map = list(map(\n",
    "                    lambda x: (255, int(255*((max_height-x)/max_height)), 0) if x >= 0 else (0, 0, 0), \n",
    "                    height_values))        \n",
    "\n",
    "        image = Image.new(mode='RGB', size=(self._width, self._height))\n",
    "        image.putdata(pixel_colour_map)  # load our colour map into the image\n",
    "\n",
    "        # scale the image and return it\n",
    "        return image.resize((self._width*scale, self._height*scale), Image.Resampling.NEAREST)\n",
    "\n"
   ]
  },
  {
   "cell_type": "code",
   "execution_count": 4,
   "id": "bae3d038",
   "metadata": {},
   "outputs": [
    {
     "name": "stdout",
     "output_type": "stream",
     "text": [
      "Grid(size=9801, rows=99, cols=99)\n",
      "1787\n"
     ]
    }
   ],
   "source": [
    "with open(INPUT_FILE, mode=\"rt\") as f:\n",
    "    data = f.read().splitlines()\n",
    "\n",
    "rows = [[int(x) for x in row] for row in data]\n",
    "grid = Grid(rows)\n",
    "print(grid)\n",
    "\n",
    "# Part 1 - How many visible trees?\n",
    "hidden_trees = grid.get_hidden_trees()\n",
    "\n",
    "print(grid.size - len(hidden_trees))\n"
   ]
  },
  {
   "cell_type": "code",
   "execution_count": null,
   "id": "ed157d70",
   "metadata": {},
   "outputs": [],
   "source": []
  },
  {
   "cell_type": "markdown",
   "id": "72122c91",
   "metadata": {},
   "source": [
    "### Task2"
   ]
  },
  {
   "cell_type": "code",
   "execution_count": 5,
   "id": "968d3d4f",
   "metadata": {},
   "outputs": [
    {
     "name": "stdout",
     "output_type": "stream",
     "text": [
      "440640\n"
     ]
    }
   ],
   "source": [
    "\n",
    "# Part 2 - What is the maximum scenic score?\n",
    "scenic_scores = grid.get_scenic_scores()\n",
    "\n",
    "print(max(scenic_scores))\n"
   ]
  },
  {
   "cell_type": "code",
   "execution_count": null,
   "id": "82ff7bbd",
   "metadata": {},
   "outputs": [],
   "source": []
  },
  {
   "cell_type": "code",
   "execution_count": null,
   "id": "08a645d3",
   "metadata": {},
   "outputs": [],
   "source": []
  },
  {
   "cell_type": "code",
   "execution_count": null,
   "id": "a5754b1b",
   "metadata": {},
   "outputs": [],
   "source": []
  },
  {
   "cell_type": "markdown",
   "id": "170523cc",
   "metadata": {},
   "source": [
    "# Day9"
   ]
  },
  {
   "cell_type": "markdown",
   "id": "649b0362",
   "metadata": {},
   "source": [
    "### Task1"
   ]
  },
  {
   "cell_type": "code",
   "execution_count": 18,
   "id": "95c07b26",
   "metadata": {},
   "outputs": [
    {
     "name": "stdout",
     "output_type": "stream",
     "text": [
      "6376\n"
     ]
    }
   ],
   "source": [
    "import numpy as np\n",
    "\n",
    "input = open(\"day9_input.txt\").read().split(\"\\n\")\n",
    "\n",
    "moves = {'U': (0, 1), 'D': (0, -1), 'L': (-1, 0), 'R': (1, 0)}\n",
    "head_x, head_y = 0, 0\n",
    "tail_x, tail_y = 0, 0\n",
    "visited = {(0, 0)}\n",
    "\n",
    "for line in input:\n",
    "    direction, steps = line.split()\n",
    "    steps = int(steps)\n",
    "\n",
    "    for _ in range(steps):\n",
    "        head_x, head_y = head_x + moves[direction][0], head_y + moves[direction][1]\n",
    "        dist_x, dist_y = head_x - tail_x, head_y - tail_y\n",
    "\n",
    "        if (abs(dist_x) >= 2) or (abs(dist_y) >= 2):\n",
    "            tail_x, tail_y = tail_x + np.sign(dist_x), tail_y + np.sign(dist_y)\n",
    "\n",
    "        visited |= {(tail_x, tail_y)}\n",
    "\n",
    "print(len(visited))"
   ]
  },
  {
   "cell_type": "code",
   "execution_count": null,
   "id": "883a8b82",
   "metadata": {},
   "outputs": [],
   "source": []
  },
  {
   "cell_type": "markdown",
   "id": "e8bb79ae",
   "metadata": {},
   "source": [
    "### Task2"
   ]
  },
  {
   "cell_type": "code",
   "execution_count": 19,
   "id": "0572bbea",
   "metadata": {},
   "outputs": [
    {
     "name": "stdout",
     "output_type": "stream",
     "text": [
      "2607\n"
     ]
    }
   ],
   "source": [
    "rope  = [(0, 0)] * 10\n",
    "head_x, head_y = 0, 0\n",
    "tail_x, tail_y = 0, 0\n",
    "visited = {(0, 0)}\n",
    "\n",
    "for line in input:\n",
    "    direction, steps = line.split()\n",
    "    steps = int(steps)\n",
    "\n",
    "    for _ in range(steps):\n",
    "        head_x, head_y = rope[0]\n",
    "        rope[0] = head_x + moves[direction][0], head_y + moves[direction][1]\n",
    "\n",
    "        for i in range(len(rope) - 1):\n",
    "            head_x, head_y = rope[i]\n",
    "            tail_x, tail_y = rope[i + 1]\n",
    "            dist_x, dist_y = head_x - tail_x, head_y - tail_y\n",
    "\n",
    "            if (abs(dist_x) >= 2) or (abs(dist_y) >= 2):\n",
    "                rope[i + 1] = tail_x + np.sign(dist_x), tail_y + np.sign(dist_y)\n",
    "\n",
    "        visited |= {rope[-1]}\n",
    "\n",
    "print(len(visited))"
   ]
  },
  {
   "cell_type": "code",
   "execution_count": null,
   "id": "7c9cddd0",
   "metadata": {},
   "outputs": [],
   "source": []
  },
  {
   "cell_type": "code",
   "execution_count": null,
   "id": "f9bdd75e",
   "metadata": {},
   "outputs": [],
   "source": []
  },
  {
   "cell_type": "code",
   "execution_count": null,
   "id": "061266e8",
   "metadata": {},
   "outputs": [],
   "source": []
  },
  {
   "cell_type": "markdown",
   "id": "61c882fe",
   "metadata": {},
   "source": [
    "# Day10"
   ]
  },
  {
   "cell_type": "markdown",
   "id": "425306a6",
   "metadata": {},
   "source": [
    "### Task1"
   ]
  },
  {
   "cell_type": "code",
   "execution_count": 20,
   "id": "c3e7d394",
   "metadata": {},
   "outputs": [
    {
     "name": "stdout",
     "output_type": "stream",
     "text": [
      "15360\n"
     ]
    }
   ],
   "source": [
    "input = \"\"\"noop\n",
    "addx 3\n",
    "addx -5\"\"\".split(\"\\n\")\n",
    "\n",
    "input = open(\"day10_input.txt\").read().split(\"\\n\")\n",
    "\n",
    "value = 1\n",
    "during = [1]\n",
    "\n",
    "for op in input:\n",
    "    if op == 'noop':\n",
    "        during.append(value)\n",
    "    else:\n",
    "        parts = op.split()\n",
    "        if parts[0] == 'addx':\n",
    "            during.append(value)\n",
    "            value += int(parts[1])\n",
    "            during.append(value)\n",
    "\n",
    "print(sum([inte * during[inte-1] for inte in [20, 60, 100, 140, 180, 220]]))"
   ]
  },
  {
   "cell_type": "code",
   "execution_count": null,
   "id": "a2c6a290",
   "metadata": {},
   "outputs": [],
   "source": []
  },
  {
   "cell_type": "markdown",
   "id": "9982f06d",
   "metadata": {},
   "source": [
    "### Task2"
   ]
  },
  {
   "cell_type": "code",
   "execution_count": 21,
   "id": "bd28f99e",
   "metadata": {},
   "outputs": [
    {
     "name": "stdout",
     "output_type": "stream",
     "text": [
      "▓▓▓░░▓░░▓░▓░░░░▓░░▓░░░▓▓░░▓▓░░▓▓▓▓░░▓▓░░\n",
      "▓░░▓░▓░░▓░▓░░░░▓░░▓░░░░▓░▓░░▓░░░░▓░▓░░▓░\n",
      "▓░░▓░▓▓▓▓░▓░░░░▓▓▓▓░░░░▓░▓░░░░░░▓░░▓░░▓░\n",
      "▓▓▓░░▓░░▓░▓░░░░▓░░▓░░░░▓░▓░▓▓░░▓░░░▓▓▓▓░\n",
      "▓░░░░▓░░▓░▓░░░░▓░░▓░▓░░▓░▓░░▓░▓░░░░▓░░▓░\n",
      "▓░░░░▓░░▓░▓▓▓▓░▓░░▓░░▓▓░░░▓▓▓░▓▓▓▓░▓░░▓░\n"
     ]
    }
   ],
   "source": [
    "line = 40\n",
    "\n",
    "crt = ['▓'  if abs(pos - (i % line)) <= 1 else '░' for i, pos in enumerate(during)]\n",
    "\n",
    "for i in range(0, len(during) // line):\n",
    "    print(''.join(crt[i * line:(i + 1) * line]))"
   ]
  },
  {
   "cell_type": "code",
   "execution_count": null,
   "id": "cab38254",
   "metadata": {},
   "outputs": [],
   "source": []
  },
  {
   "cell_type": "code",
   "execution_count": null,
   "id": "ccc2dc77",
   "metadata": {},
   "outputs": [],
   "source": []
  },
  {
   "cell_type": "code",
   "execution_count": null,
   "id": "0975c65c",
   "metadata": {},
   "outputs": [],
   "source": []
  },
  {
   "cell_type": "markdown",
   "id": "4301ca97",
   "metadata": {},
   "source": [
    "# Day11"
   ]
  },
  {
   "cell_type": "markdown",
   "id": "47f1c1b5",
   "metadata": {},
   "source": [
    "### Task1"
   ]
  },
  {
   "cell_type": "code",
   "execution_count": 30,
   "id": "3b7903da",
   "metadata": {},
   "outputs": [
    {
     "name": "stdout",
     "output_type": "stream",
     "text": [
      "66802\n"
     ]
    }
   ],
   "source": [
    "import numpy as np\n",
    "\n",
    "def init_monkeys():\n",
    "    data = open(\"day11_input.txt\", \"r\").read().split('\\n\\n')\n",
    "    monkeys = {}\n",
    "    \n",
    "    for e, monkey in enumerate(data):\n",
    "        monkey = monkey.splitlines()[1:]\n",
    "        items = [int(x) for x in monkey[0].split(\": \")[1].split(\", \")]\n",
    "        operation = lambda x, y: (x + (int(y[1]) if y[1].isdigit() else x)) if y[0] == \"+\" else (x * (int(y[1]) if y[1].isdigit() else x))\n",
    "        test = lambda x, y: [y[1], y[0]][not x % y[2]]\n",
    "        op = monkey[1].split(\" \")[-2:]\n",
    "        z = [int(monkey[3].split(\" \")[-1]), int(monkey[4].split(\" \")[-1]), int(monkey[2].split(\" \")[-1])]\n",
    "        monkeys[e] = {\"i\" : items, \"o\" : operation, \"t\" : test, \"op\" : op, \"bool\" : z}\n",
    "        \n",
    "    return monkeys\n",
    "\n",
    "monkeys = init_monkeys()\n",
    "inspects = {e : 0 for e in monkeys}\n",
    "\n",
    "for _ in range(20):\n",
    "    for e, monkey in monkeys.items():\n",
    "        while monkey[\"i\"]:\n",
    "            inspects[e] += 1\n",
    "            item = monkey[\"o\"](monkey[\"i\"].pop(0), monkey[\"op\"]) // 3\n",
    "            monkeys[monkey[\"t\"](item, monkey[\"bool\"])][\"i\"].append(item)\n",
    "\n",
    "print(np.prod(sorted(inspects.values())[-2:]))"
   ]
  },
  {
   "cell_type": "code",
   "execution_count": 41,
   "id": "bfc379f0",
   "metadata": {},
   "outputs": [],
   "source": [
    "from __future__ import annotations\n",
    "from collections import Counter\n",
    "import copy\n",
    "import math\n",
    "import operator\n",
    "from pathlib import Path\n",
    "import time\n",
    "import re\n",
    "from tqdm import tqdm\n",
    "\n",
    "INPUT_FILE = Path(\"day11_input.txt\")\n",
    "\n",
    "class Monkey:\n",
    "    \"\"\" The monkey has a bunch of my things. \n",
    "    start_items = worry level for each item, in the order they will be inspectd\n",
    "    worry_op = how worry level changes as the monkey inspects the item\n",
    "    \"\"\"\n",
    "    def __init__(self, monkey_id: int, items: list, worry_op: str, div: int, throw_to: list) -> None:\n",
    "        self.monkey_id = monkey_id # E.g. 0\n",
    "        self.start_items = items # E.g. [79, 98]\n",
    "        self._worry_op = worry_op  # E.g. old * 19\n",
    "        self.divisor = div  # E.g. 13\n",
    "        self._throw_to = throw_to # E.g. [2, 3]\n",
    "        self.inspect_count = 0\n",
    "    \n",
    "    def add_item(self, item:int):\n",
    "        self.start_items.append(item)\n",
    "        \n",
    "    def inspect(self, relief=True, lcm=None) -> int:\n",
    "        \"\"\" Inspects the next item in the list. \n",
    "        Inspecting causes our worry level to go up, as given by worry_op. \n",
    "        If relief enabled, we then reduce our worry level by //3.\n",
    "        Then we work out who to throw to, by dividing by a divisor.\n",
    "        \n",
    "        In part 2:\n",
    "          - relief is disabled and worry level can get VERY LARGE!!\n",
    "          - We can significantly reduce this number by using LCM trick.\n",
    "         \"\"\"\n",
    "        \n",
    "        self.inspect_count += 1\n",
    "        \n",
    "        # turn \"old * 19\" into \"79 * 19\"\n",
    "        worry_op = self._worry_op.replace(\"old\", str(self.start_items[0]))\n",
    "        \n",
    "        first, the_op, second = re.findall(r\"(\\w+) (.) (\\w+)\", worry_op)[0]\n",
    "        ops_dict = {\n",
    "            \"+\": operator.add,\n",
    "            \"*\": operator.mul\n",
    "        }\n",
    "        \n",
    "        self.start_items[0] = ops_dict[the_op](int(first), int(second))\n",
    "    \n",
    "        # Relief. Rule = divide by three and round down\n",
    "        if relief:\n",
    "            self.start_items[0] //= 3\n",
    "        \n",
    "        if lcm:\n",
    "            self.start_items[0] %= lcm\n",
    "        \n",
    "        return self._throw_to[0] if self.start_items[0] % self.divisor == 0 \\\n",
    "                                 else self._throw_to[1]\n",
    "    \n",
    "    def throw_to(self, other: Monkey):\n",
    "        other.add_item(self.start_items.pop(0))\n",
    "        \n",
    "    def __repr__(self) -> str:\n",
    "        return f\"Monkey:(id={self.monkey_id}, items={self.start_items}, \" \\\n",
    "                + f\"inspect_count={self.inspect_count})\"\n",
    "\n",
    "def play(monkeys: dict[int, Monkey], rounds_to_play: int, relief=True, lcm=None) -> int:\n",
    "    \"\"\" Play required number of rounds.\n",
    "    Returns 'Monkey Business' = product of the top two inspection counts \"\"\"\n",
    "    for _ in tqdm(range(1, rounds_to_play+1)):\n",
    "        for monkey in monkeys.values(): # Iterator through monkeys in order\n",
    "            while monkey.start_items: # Monkey inspects and throws until it has no more items\n",
    "                to_monkey = monkeys[monkey.inspect(relief=relief, lcm=lcm)]\n",
    "                monkey.throw_to(to_monkey)\n",
    "    \n",
    "    # Get the two monkeys that have inspected the most\n",
    "    monkey_inspect = Counter({monkey.monkey_id: monkey.inspect_count for monkey in monkeys.values()})\n",
    "    two_most_common = monkey_inspect.most_common(2)\n",
    "    return two_most_common[0][1] * two_most_common[1][1]\n",
    "\n",
    "def parse_input(data: str) -> dict[int, Monkey]:\n",
    "    blocks = data.split(\"\\n\\n\")\n",
    "    \n",
    "    monkeys = {}\n",
    "    for block in blocks:\n",
    "        for line in block.splitlines():\n",
    "            if line.startswith(\"Monkey\"):\n",
    "                monkey_id = int(re.findall(r\"(\\d+)\", line)[0])\n",
    "                \n",
    "            if \"items:\" in line:\n",
    "                items = list(map(int, re.findall(r\"(\\d+)\", line)))\n",
    "\n",
    "            if \"Operation:\" in line:\n",
    "                worry_op = line.split(\"=\")[-1].strip()\n",
    "            \n",
    "            if \"Test:\" in line:\n",
    "                divisor = int(re.findall(r\"\\d+\", line)[0])\n",
    "            \n",
    "            if \"true:\" in line:\n",
    "                to_monkey_true = int(re.findall(r\"\\d+\", line)[0])\n",
    "            \n",
    "            if \"false:\" in line:\n",
    "                to_monkey_false = int(re.findall(r\"\\d+\", line)[0])\n",
    "                \n",
    "        monkey = Monkey(monkey_id=monkey_id, items=items,\n",
    "                        worry_op=worry_op, div=divisor, \n",
    "                        throw_to=[to_monkey_true, to_monkey_false])\n",
    "        \n",
    "        monkeys[monkey_id] = monkey\n",
    "        \n",
    "    return monkeys\n",
    "        "
   ]
  },
  {
   "cell_type": "code",
   "execution_count": 42,
   "id": "7bdcd0b3",
   "metadata": {},
   "outputs": [
    {
     "name": "stderr",
     "output_type": "stream",
     "text": [
      "100%|██████████| 20/20 [00:00<00:00, 1000.35it/s]"
     ]
    },
    {
     "name": "stdout",
     "output_type": "stream",
     "text": [
      "66802\n"
     ]
    },
    {
     "name": "stderr",
     "output_type": "stream",
     "text": [
      "\n"
     ]
    }
   ],
   "source": [
    "with open(INPUT_FILE, mode=\"rt\") as f:\n",
    "    data = f.read()\n",
    "\n",
    "monkeys = parse_input(data)\n",
    "\n",
    "# Part 1\n",
    "monkey_business = play(copy.deepcopy(monkeys), 20)\n",
    "print(monkey_business)\n"
   ]
  },
  {
   "cell_type": "code",
   "execution_count": null,
   "id": "302e4c50",
   "metadata": {},
   "outputs": [],
   "source": []
  },
  {
   "cell_type": "markdown",
   "id": "7ba3dce7",
   "metadata": {},
   "source": [
    "### Task2"
   ]
  },
  {
   "cell_type": "code",
   "execution_count": 39,
   "id": "b71bd27b",
   "metadata": {
    "scrolled": true
   },
   "outputs": [
    {
     "name": "stderr",
     "output_type": "stream",
     "text": [
      "C:\\Users\\USER\\AppData\\Local\\Temp\\ipykernel_21500\\67601937.py:10: RuntimeWarning: overflow encountered in scalar multiply\n",
      "  operation = lambda x, y: (x + (int(y[1]) if y[1].isdigit() else x)) if y[0] == \"+\" else (x * (int(y[1]) if y[1].isdigit() else x))\n"
     ]
    },
    {
     "name": "stdout",
     "output_type": "stream",
     "text": [
      "-685903024\n"
     ]
    }
   ],
   "source": [
    "monkeys = init_monkeys()\n",
    "inspects = {e : 0 for e in monkeys}\n",
    "mod = np.prod([monkeys[e][\"bool\"][-1] for e in monkeys])\n",
    "\n",
    "for _ in range(10000):\n",
    "    for e, monkey in monkeys.items():\n",
    "        while monkey[\"i\"]:\n",
    "            inspects[e] += 1\n",
    "            item = monkey[\"o\"](monkey[\"i\"].pop(0), monkey[\"op\"]) % mod\n",
    "            monkeys[monkey[\"t\"](item, monkey[\"bool\"])][\"i\"].append(item)\n",
    "\n",
    "print(np.prod(sorted(inspects.values())[-2:]))"
   ]
  },
  {
   "cell_type": "code",
   "execution_count": 43,
   "id": "4752e8b4",
   "metadata": {},
   "outputs": [
    {
     "name": "stderr",
     "output_type": "stream",
     "text": [
      "100%|██████████| 10000/10000 [00:08<00:00, 1228.75it/s]"
     ]
    },
    {
     "name": "stdout",
     "output_type": "stream",
     "text": [
      "21800916620\n"
     ]
    },
    {
     "name": "stderr",
     "output_type": "stream",
     "text": [
      "\n"
     ]
    }
   ],
   "source": [
    "\n",
    "# Part 2\n",
    "lcm = math.lcm(*[monkey.divisor for monkey in monkeys.values()])\n",
    "# Note that here, the lcm is actually the product of these numbers, since they are all prime.\n",
    "# But in general, we would want to use LCM.\n",
    "monkey_business = play(monkeys, 10000, relief=False, lcm=lcm)\n",
    "print(monkey_business)\n",
    "\n"
   ]
  },
  {
   "cell_type": "code",
   "execution_count": null,
   "id": "4e23ecee",
   "metadata": {},
   "outputs": [],
   "source": []
  },
  {
   "cell_type": "code",
   "execution_count": null,
   "id": "dab3f59a",
   "metadata": {},
   "outputs": [],
   "source": []
  },
  {
   "cell_type": "code",
   "execution_count": null,
   "id": "165572a0",
   "metadata": {},
   "outputs": [],
   "source": []
  },
  {
   "cell_type": "markdown",
   "id": "55a8dc04",
   "metadata": {},
   "source": [
    "# Day12"
   ]
  },
  {
   "cell_type": "markdown",
   "id": "e2e72299",
   "metadata": {},
   "source": [
    "### Task1"
   ]
  },
  {
   "cell_type": "code",
   "execution_count": 28,
   "id": "68afe9f1",
   "metadata": {},
   "outputs": [
    {
     "name": "stdout",
     "output_type": "stream",
     "text": [
      "423\n"
     ]
    }
   ],
   "source": [
    "import sys, collections\n",
    "\n",
    "def solve(grid, *start):\n",
    "    Q = collections.deque((i, j, 0, 'a') for i in range(len(grid)) \n",
    "                    for j in range(len(grid[i])) \n",
    "                    if grid[i][j] in start)\n",
    "    visited = set((i, j) for i, j, _, _ in Q)\n",
    "\n",
    "    def push(i, j, d, a):\n",
    "        if not 0 <= i < len(grid) or not 0 <= j < len(grid[i]): return\n",
    "        if (i, j) in visited: return\n",
    "        b = grid[i][j].replace('E', 'z')\n",
    "        if ord(b) > ord(a) + 1: return\n",
    "        visited.add((i, j))\n",
    "        Q.append((i, j, d + 1, b))\n",
    "\n",
    "    while len(Q):\n",
    "        i, j, d, a = Q.popleft()\n",
    "        if grid[i][j] == 'E': return d\n",
    "        push(i + 1, j, d, a)\n",
    "        push(i - 1, j, d, a)\n",
    "        push(i, j + 1, d, a)\n",
    "        push(i, j - 1, d, a)\n",
    "\n",
    "grid = open(\"day12_input.txt\", \"r\").read().split('\\n')\n",
    "print(solve(grid, 'S'))"
   ]
  },
  {
   "cell_type": "code",
   "execution_count": null,
   "id": "95968de0",
   "metadata": {},
   "outputs": [],
   "source": []
  },
  {
   "cell_type": "markdown",
   "id": "22243005",
   "metadata": {},
   "source": [
    "### Task2"
   ]
  },
  {
   "cell_type": "code",
   "execution_count": 29,
   "id": "b6e54988",
   "metadata": {},
   "outputs": [
    {
     "name": "stdout",
     "output_type": "stream",
     "text": [
      "416\n"
     ]
    }
   ],
   "source": [
    "print(solve(grid, 'S', 'a'))"
   ]
  },
  {
   "cell_type": "code",
   "execution_count": null,
   "id": "d5593ce8",
   "metadata": {},
   "outputs": [],
   "source": []
  },
  {
   "cell_type": "code",
   "execution_count": null,
   "id": "0b38ac37",
   "metadata": {},
   "outputs": [],
   "source": []
  },
  {
   "cell_type": "code",
   "execution_count": null,
   "id": "8c2ff61f",
   "metadata": {},
   "outputs": [],
   "source": []
  },
  {
   "cell_type": "markdown",
   "id": "4bb24208",
   "metadata": {},
   "source": [
    "# Day13"
   ]
  },
  {
   "cell_type": "markdown",
   "id": "ad71c751",
   "metadata": {},
   "source": [
    "### Task1"
   ]
  },
  {
   "cell_type": "code",
   "execution_count": null,
   "id": "7055197e",
   "metadata": {},
   "outputs": [],
   "source": []
  },
  {
   "cell_type": "code",
   "execution_count": null,
   "id": "e649e12d",
   "metadata": {},
   "outputs": [],
   "source": []
  },
  {
   "cell_type": "markdown",
   "id": "0ce87db0",
   "metadata": {},
   "source": [
    "### Task2"
   ]
  },
  {
   "cell_type": "code",
   "execution_count": null,
   "id": "636bf848",
   "metadata": {},
   "outputs": [],
   "source": []
  },
  {
   "cell_type": "code",
   "execution_count": null,
   "id": "eeceb56c",
   "metadata": {},
   "outputs": [],
   "source": []
  },
  {
   "cell_type": "code",
   "execution_count": null,
   "id": "13218ba1",
   "metadata": {},
   "outputs": [],
   "source": []
  },
  {
   "cell_type": "markdown",
   "id": "5b1fcda5",
   "metadata": {},
   "source": [
    "# Day14"
   ]
  },
  {
   "cell_type": "code",
   "execution_count": null,
   "id": "cdd47c89",
   "metadata": {},
   "outputs": [],
   "source": []
  },
  {
   "cell_type": "code",
   "execution_count": null,
   "id": "b56a741a",
   "metadata": {},
   "outputs": [],
   "source": []
  },
  {
   "cell_type": "code",
   "execution_count": null,
   "id": "5f84b6a9",
   "metadata": {},
   "outputs": [],
   "source": []
  },
  {
   "cell_type": "code",
   "execution_count": null,
   "id": "89cbfee9",
   "metadata": {},
   "outputs": [],
   "source": []
  },
  {
   "cell_type": "code",
   "execution_count": null,
   "id": "85753f89",
   "metadata": {},
   "outputs": [],
   "source": []
  },
  {
   "cell_type": "markdown",
   "id": "4787ff6c",
   "metadata": {},
   "source": [
    "# Day15"
   ]
  },
  {
   "cell_type": "markdown",
   "id": "344a29cf",
   "metadata": {},
   "source": [
    "### Task1"
   ]
  },
  {
   "cell_type": "code",
   "execution_count": null,
   "id": "9b215d7a",
   "metadata": {},
   "outputs": [],
   "source": []
  },
  {
   "cell_type": "code",
   "execution_count": null,
   "id": "ee4f386a",
   "metadata": {},
   "outputs": [],
   "source": []
  },
  {
   "cell_type": "markdown",
   "id": "0427cc86",
   "metadata": {},
   "source": [
    "### Task2"
   ]
  },
  {
   "cell_type": "code",
   "execution_count": null,
   "id": "b33df981",
   "metadata": {},
   "outputs": [],
   "source": []
  },
  {
   "cell_type": "code",
   "execution_count": null,
   "id": "1b385b5d",
   "metadata": {},
   "outputs": [],
   "source": []
  },
  {
   "cell_type": "code",
   "execution_count": null,
   "id": "055b7894",
   "metadata": {},
   "outputs": [],
   "source": []
  },
  {
   "cell_type": "markdown",
   "id": "99a493a4",
   "metadata": {},
   "source": [
    "# Day16"
   ]
  },
  {
   "cell_type": "markdown",
   "id": "d1533e47",
   "metadata": {},
   "source": [
    "### Task1"
   ]
  },
  {
   "cell_type": "code",
   "execution_count": null,
   "id": "cbe498cb",
   "metadata": {},
   "outputs": [],
   "source": []
  },
  {
   "cell_type": "code",
   "execution_count": null,
   "id": "3f3e2a4b",
   "metadata": {},
   "outputs": [],
   "source": []
  },
  {
   "cell_type": "markdown",
   "id": "bb481b84",
   "metadata": {},
   "source": [
    "### Task2"
   ]
  },
  {
   "cell_type": "code",
   "execution_count": null,
   "id": "6ef023a5",
   "metadata": {},
   "outputs": [],
   "source": []
  },
  {
   "cell_type": "code",
   "execution_count": null,
   "id": "f58234a7",
   "metadata": {},
   "outputs": [],
   "source": []
  },
  {
   "cell_type": "code",
   "execution_count": null,
   "id": "4e97da0e",
   "metadata": {},
   "outputs": [],
   "source": []
  },
  {
   "cell_type": "code",
   "execution_count": null,
   "id": "695a53a0",
   "metadata": {},
   "outputs": [],
   "source": []
  }
 ],
 "metadata": {
  "kernelspec": {
   "display_name": "Python 3 (ipykernel)",
   "language": "python",
   "name": "python3"
  },
  "language_info": {
   "codemirror_mode": {
    "name": "ipython",
    "version": 3
   },
   "file_extension": ".py",
   "mimetype": "text/x-python",
   "name": "python",
   "nbconvert_exporter": "python",
   "pygments_lexer": "ipython3",
   "version": "3.9.15"
  },
  "vscode": {
   "interpreter": {
    "hash": "2b2243faa631384377c823394dc9b10ab281fd66f6334b5771c1c6004f74f42f"
   }
  }
 },
 "nbformat": 4,
 "nbformat_minor": 5
}
