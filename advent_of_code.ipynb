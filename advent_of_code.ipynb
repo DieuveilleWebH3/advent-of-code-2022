{
 "cells": [
  {
   "cell_type": "code",
   "execution_count": null,
   "id": "dc70ce70",
   "metadata": {},
   "outputs": [],
   "source": []
  },
  {
   "cell_type": "markdown",
   "id": "44e73153",
   "metadata": {},
   "source": [
    "# Dieuveille's Advent of Code 2022  \n"
   ]
  },
  {
   "cell_type": "code",
   "execution_count": null,
   "id": "ce3d261e",
   "metadata": {},
   "outputs": [],
   "source": []
  },
  {
   "cell_type": "code",
   "execution_count": null,
   "id": "129681bf",
   "metadata": {},
   "outputs": [],
   "source": []
  },
  {
   "cell_type": "markdown",
   "id": "35622409",
   "metadata": {},
   "source": [
    "## Day 1"
   ]
  },
  {
   "cell_type": "markdown",
   "id": "85005821",
   "metadata": {},
   "source": [
    "### Task 1"
   ]
  },
  {
   "cell_type": "code",
   "execution_count": 1,
   "id": "2aa560b2",
   "metadata": {},
   "outputs": [],
   "source": [
    "with open('day1_input.txt') as f:\n",
    "    lines = f.readlines()"
   ]
  },
  {
   "cell_type": "code",
   "execution_count": 2,
   "id": "db38ee0b",
   "metadata": {
    "scrolled": true
   },
   "outputs": [],
   "source": [
    "elf_calory_lists = []\n",
    "\n",
    "# print(lines)\n",
    "\n",
    "# print(\"\\n\")\n",
    "\n",
    "temp = []\n",
    "\n",
    "for l in lines:\n",
    "#     print(l.strip())\n",
    "    if l and l!='' and l!=\"\\n\":\n",
    "        temp.append(int(l.strip()))\n",
    "    else:\n",
    "        elf_calory_lists.append(temp)\n",
    "        temp = []\n",
    "        \n",
    "# print(elf_calory_lists)\n",
    "    "
   ]
  },
  {
   "cell_type": "code",
   "execution_count": 3,
   "id": "1e75a85d",
   "metadata": {},
   "outputs": [
    {
     "name": "stdout",
     "output_type": "stream",
     "text": [
      "66719\n"
     ]
    }
   ],
   "source": [
    "biggest = 0\n",
    "\n",
    "for calory in elf_calory_lists:\n",
    "    biggest = sum(calory) if sum(calory) > biggest else biggest\n",
    "    \n",
    "print(biggest)"
   ]
  },
  {
   "cell_type": "code",
   "execution_count": null,
   "id": "8bb5c708",
   "metadata": {},
   "outputs": [],
   "source": []
  },
  {
   "cell_type": "markdown",
   "id": "743b7e21",
   "metadata": {},
   "source": [
    "### Task 2"
   ]
  },
  {
   "cell_type": "code",
   "execution_count": 4,
   "id": "0bb0598b",
   "metadata": {},
   "outputs": [
    {
     "name": "stdout",
     "output_type": "stream",
     "text": [
      "198551\n"
     ]
    }
   ],
   "source": [
    "big_three = [ sum(elf_calories) for elf_calories in elf_calory_lists ]\n",
    "    \n",
    "big_three.sort(reverse=True)\n",
    "big_three = big_three[:3]\n",
    "\n",
    "# print(big_three)\n",
    "\n",
    "big_three_sum = sum(big_three)\n",
    "\n",
    "print(big_three_sum)\n",
    "\n"
   ]
  },
  {
   "cell_type": "code",
   "execution_count": null,
   "id": "75526482",
   "metadata": {},
   "outputs": [],
   "source": []
  },
  {
   "cell_type": "code",
   "execution_count": null,
   "id": "01a78612",
   "metadata": {},
   "outputs": [],
   "source": []
  },
  {
   "cell_type": "markdown",
   "id": "96fe527c",
   "metadata": {},
   "source": [
    "## Day 2"
   ]
  },
  {
   "cell_type": "markdown",
   "id": "a726ad9d",
   "metadata": {},
   "source": [
    "### Task1"
   ]
  },
  {
   "cell_type": "code",
   "execution_count": 5,
   "id": "a77b8d1b",
   "metadata": {},
   "outputs": [],
   "source": [
    "with open('day2_input.txt') as f:\n",
    "    lines = f.readlines()"
   ]
  },
  {
   "cell_type": "code",
   "execution_count": 6,
   "id": "26d80103",
   "metadata": {},
   "outputs": [],
   "source": [
    "choices = [\n",
    "l.strip().replace('\\n', '') for l in lines if l and l != '' and l != \"\\n\"\n",
    "]\n",
    "\n",
    "# print(lines)\n",
    "\n",
    "# print(choices)\n"
   ]
  },
  {
   "cell_type": "code",
   "execution_count": 7,
   "id": "72f7fd90",
   "metadata": {},
   "outputs": [],
   "source": [
    "def round_result(the_list):\n",
    "    \"\"\"    \n",
    "    A -- Rock -- X\n",
    "    B -- Paper -- Y\n",
    "    C -- Scissors -- Z\n",
    "    \n",
    "    X -- 1 \n",
    "    Y -- 2 \n",
    "    Z -- 3 \n",
    "    \n",
    "    Loss 0\n",
    "    Draw 3 \n",
    "    Win 6\n",
    "    \"\"\"\n",
    "    score = 0\n",
    "    for x in the_list:\n",
    "        if x == \"\" : score += 0\n",
    "        elif x == \"A X\" : score += 4\n",
    "        elif x == \"A Y\" : score += 8\n",
    "        elif x == \"A Z\" : score += 3\n",
    "        elif x == \"B X\" : score += 1\n",
    "        elif x == \"B Y\" : score += 5\n",
    "        elif x == \"B Z\" : score += 9\n",
    "        elif x == \"C X\" : score += 7\n",
    "        elif x == \"C Y\" : score += 2\n",
    "        elif x == \"C Z\" : score += 6\n",
    "    return score"
   ]
  },
  {
   "cell_type": "code",
   "execution_count": 8,
   "id": "efecf9cd",
   "metadata": {},
   "outputs": [
    {
     "data": {
      "text/plain": [
       "13268"
      ]
     },
     "execution_count": 8,
     "metadata": {},
     "output_type": "execute_result"
    }
   ],
   "source": [
    "round_result(choices)"
   ]
  },
  {
   "cell_type": "code",
   "execution_count": 9,
   "id": "11c503e1",
   "metadata": {},
   "outputs": [
    {
     "data": {
      "text/plain": [
       "15"
      ]
     },
     "execution_count": 9,
     "metadata": {},
     "output_type": "execute_result"
    }
   ],
   "source": [
    "round_result([\"A Y\", \"B X\", \"C Z\"])"
   ]
  },
  {
   "cell_type": "code",
   "execution_count": null,
   "id": "b7412667",
   "metadata": {},
   "outputs": [],
   "source": []
  },
  {
   "cell_type": "markdown",
   "id": "83276963",
   "metadata": {},
   "source": [
    "### Task2"
   ]
  },
  {
   "cell_type": "code",
   "execution_count": 10,
   "id": "07acd928",
   "metadata": {},
   "outputs": [],
   "source": [
    "def round_result2(the_list):\n",
    "    \"\"\"\n",
    "    X == Loss\n",
    "    Y == Draw\n",
    "    Z == Win\n",
    "    \n",
    "    X -> Rock\n",
    "    Y ->Paper\n",
    "    Z ->Scissors\n",
    "    \n",
    "    Loss 0\n",
    "    Draw 3 \n",
    "    Win 6\n",
    "    \"\"\"\n",
    "    score = 0\n",
    "    for x in the_list:\n",
    "        if x == \"\" : score += 0\n",
    "        elif x == \"A X\" : score += 3 + 0\n",
    "        elif x == \"A Y\" : score += 1 + 3\n",
    "        elif x == \"A Z\" : score += 2 + 6\n",
    "        elif x == \"B X\" : score += 1 + 0\n",
    "        elif x == \"B Y\" : score += 2 + 3\n",
    "        elif x == \"B Z\" : score += 3 + 6\n",
    "        elif x == \"C X\" : score += 2 + 0\n",
    "        elif x == \"C Y\" : score += 3 + 3\n",
    "        elif x == \"C Z\" : score += 1 + 6\n",
    "    return score"
   ]
  },
  {
   "cell_type": "code",
   "execution_count": 11,
   "id": "1a1afe02",
   "metadata": {},
   "outputs": [
    {
     "data": {
      "text/plain": [
       "15508"
      ]
     },
     "execution_count": 11,
     "metadata": {},
     "output_type": "execute_result"
    }
   ],
   "source": [
    "round_result2(choices)"
   ]
  },
  {
   "cell_type": "code",
   "execution_count": null,
   "id": "3169f9d6",
   "metadata": {},
   "outputs": [],
   "source": []
  },
  {
   "cell_type": "code",
   "execution_count": null,
   "id": "a0528aa3",
   "metadata": {},
   "outputs": [],
   "source": []
  },
  {
   "cell_type": "code",
   "execution_count": null,
   "id": "b4d72c35",
   "metadata": {},
   "outputs": [],
   "source": []
  },
  {
   "cell_type": "markdown",
   "id": "d1f9362c",
   "metadata": {},
   "source": [
    "## Day 3"
   ]
  },
  {
   "cell_type": "markdown",
   "id": "80aadd25",
   "metadata": {},
   "source": [
    "### Task1"
   ]
  },
  {
   "cell_type": "code",
   "execution_count": 12,
   "id": "90a349a4",
   "metadata": {},
   "outputs": [],
   "source": [
    "with open('day3_input.txt') as f:\n",
    "    lines = f.readlines()\n",
    "    "
   ]
  },
  {
   "cell_type": "code",
   "execution_count": 13,
   "id": "11383918",
   "metadata": {},
   "outputs": [],
   "source": [
    "import string\n",
    "    \n",
    "def get_priority_score(the_string):\n",
    "    # lowercase_priority = list(string.ascii_lowercase)\n",
    "    # cuppercase_priority = list(string.ascii_uppercase)\n",
    "    # all_priority = lowercase_priority + cuppercase_priority\n",
    "    all_priority = list(string.ascii_letters)\n",
    "    all_priority_score = {}\n",
    "    all_priority_score = { value : index+1 for index, value in enumerate(all_priority) }\n",
    "    \n",
    "#     print(all_priority_score)\n",
    "    \n",
    "    length = len(the_string) \n",
    "        \n",
    "    for priority in all_priority_score:\n",
    "        if priority in the_string[: length // 2] and priority in the_string[length // 2 :]:\n",
    "            #  compartments_score.append(all_priority_score[priority])\n",
    "            return all_priority_score[priority]\n",
    "            \n",
    "            \n",
    "    "
   ]
  },
  {
   "cell_type": "code",
   "execution_count": 14,
   "id": "8a9a3f40",
   "metadata": {},
   "outputs": [
    {
     "name": "stdout",
     "output_type": "stream",
     "text": [
      "8085\n"
     ]
    }
   ],
   "source": [
    "### def get_priority_type(a_string):\n",
    "    \n",
    "compartments_score = [ get_priority_score(line.replace('\\n', '')) for line in lines ]\n",
    "\n",
    "# print(lines)\n",
    "    \n",
    "print(sum(compartments_score))\n"
   ]
  },
  {
   "cell_type": "code",
   "execution_count": null,
   "id": "077fc117",
   "metadata": {},
   "outputs": [],
   "source": []
  },
  {
   "cell_type": "markdown",
   "id": "9fd87cec",
   "metadata": {},
   "source": [
    "### Task 2"
   ]
  },
  {
   "cell_type": "code",
   "execution_count": 15,
   "id": "97ae740d",
   "metadata": {},
   "outputs": [],
   "source": [
    "group1 = [\"vJrwpWtwJgWrhcsFMMfFFhFp\", \"jqHRNqRjqzjGDLGLrsFMfFZSrLrFZsSL\", \"PmmdzqPrVvPwwTWBwg\"]\n",
    "group2 = [\"wMqvLMZHhHMvwLHjbvcjnnSBnvTQFn\", \"ttgJtRGJQctTZtZT\", \"CrZsJsPPZsGzwwsLwLmpwMDw\"]"
   ]
  },
  {
   "cell_type": "code",
   "execution_count": 16,
   "id": "18d932fd",
   "metadata": {},
   "outputs": [],
   "source": [
    "groups = group1 + group2\n",
    "\n"
   ]
  },
  {
   "cell_type": "code",
   "execution_count": 17,
   "id": "1446119c",
   "metadata": {},
   "outputs": [],
   "source": [
    "import string\n",
    "    \n",
    "def get_priority_score2(the_string_list):\n",
    "    all_priority = list(string.ascii_letters)\n",
    "\n",
    "    all_priority_score = {}\n",
    "    all_priority_score = { value : index+1 for index, value in enumerate(all_priority) }\n",
    "    \n",
    "    substring1, substring2, substring3 = the_string_list[0], the_string_list[1], the_string_list[2]\n",
    "\n",
    "    for priority in all_priority_score:\n",
    "        if priority in substring1 and priority in substring2 and priority in substring3:\n",
    "            return all_priority_score[priority]\n",
    "            "
   ]
  },
  {
   "cell_type": "code",
   "execution_count": 18,
   "id": "9f1cae1c",
   "metadata": {},
   "outputs": [
    {
     "name": "stdout",
     "output_type": "stream",
     "text": [
      "70\n"
     ]
    }
   ],
   "source": [
    "new_compartments_score = [ get_priority_score2(groups[x:x+3]) for x in range(0, len(groups), 3) ]\n",
    "\n",
    "    \n",
    "print(sum(new_compartments_score))"
   ]
  },
  {
   "cell_type": "code",
   "execution_count": 19,
   "id": "8bbb69a9",
   "metadata": {},
   "outputs": [
    {
     "name": "stdout",
     "output_type": "stream",
     "text": [
      "2515\n"
     ]
    }
   ],
   "source": [
    "with open('day3_input.txt') as f:\n",
    "    lines = f.readlines()\n",
    "    \n",
    "new_compartments_score = [ get_priority_score2(lines[x:x+3]) for x in range(0, len(lines), 3) ]\n",
    "\n",
    "    \n",
    "print(sum(new_compartments_score))\n"
   ]
  },
  {
   "cell_type": "code",
   "execution_count": null,
   "id": "ee527a73",
   "metadata": {},
   "outputs": [],
   "source": []
  },
  {
   "cell_type": "code",
   "execution_count": null,
   "id": "4fde9f80",
   "metadata": {},
   "outputs": [],
   "source": []
  },
  {
   "cell_type": "code",
   "execution_count": null,
   "id": "74bc5b7b",
   "metadata": {},
   "outputs": [],
   "source": []
  },
  {
   "cell_type": "markdown",
   "id": "60df5bfa",
   "metadata": {},
   "source": [
    "## Day 4"
   ]
  },
  {
   "cell_type": "markdown",
   "id": "d7738ff7",
   "metadata": {},
   "source": [
    "### Task1"
   ]
  },
  {
   "cell_type": "code",
   "execution_count": 20,
   "id": "6959936f",
   "metadata": {},
   "outputs": [],
   "source": [
    "with open('day4_input.txt') as f:\n",
    "    lines = f.readlines()\n",
    "    "
   ]
  },
  {
   "cell_type": "code",
   "execution_count": 21,
   "id": "b99fd2a6",
   "metadata": {},
   "outputs": [],
   "source": [
    "# print(lines)"
   ]
  },
  {
   "cell_type": "code",
   "execution_count": 22,
   "id": "b887c634",
   "metadata": {},
   "outputs": [
    {
     "name": "stdout",
     "output_type": "stream",
     "text": [
      "644\n"
     ]
    }
   ],
   "source": [
    "fully_contain = 0\n",
    "\n",
    "for line in lines:\n",
    "    n1, n2, n3, n4 = line.split(\",\")[0].split(\"-\")[0], line.split(\",\")[0].split(\"-\")[1], line.split(\",\")[1].split(\"-\")[0], line.split(\",\")[1].split(\"-\")[1].replace(\"\\n\", \"\")\n",
    "    \n",
    "    if (int(n1) >= int(n3) and int(n2) <= int(n4)) or (int(n3) >= int(n1) and int(n4) <= int(n2)):\n",
    "        fully_contain += 1\n",
    "\n",
    "print(fully_contain)"
   ]
  },
  {
   "cell_type": "code",
   "execution_count": null,
   "id": "23b02710",
   "metadata": {},
   "outputs": [],
   "source": []
  },
  {
   "cell_type": "markdown",
   "id": "e18e585a",
   "metadata": {},
   "source": [
    "### Task2"
   ]
  },
  {
   "cell_type": "code",
   "execution_count": 23,
   "id": "0bd1e4b8",
   "metadata": {},
   "outputs": [
    {
     "name": "stdout",
     "output_type": "stream",
     "text": [
      "926\n"
     ]
    }
   ],
   "source": [
    "overlap = 0\n",
    "\n",
    "for line in lines:\n",
    "    n1, n2, n3, n4 = line.split(\",\")[0].split(\"-\")[0], line.split(\",\")[0].split(\"-\")[1], line.split(\",\")[1].split(\"-\")[0], line.split(\",\")[1].split(\"-\")[1].replace(\"\\n\", \"\")\n",
    "    \n",
    "    for j in range(int(n1), int(n2) + 1):\n",
    "        if j >= int(n3) and j <= int(n4):\n",
    "            overlap += 1\n",
    "            break\n",
    "\n",
    "print(overlap)"
   ]
  },
  {
   "cell_type": "code",
   "execution_count": null,
   "id": "ac079562",
   "metadata": {},
   "outputs": [],
   "source": []
  },
  {
   "cell_type": "code",
   "execution_count": null,
   "id": "4f72ff48",
   "metadata": {},
   "outputs": [],
   "source": []
  },
  {
   "cell_type": "code",
   "execution_count": null,
   "id": "c422d63b",
   "metadata": {},
   "outputs": [],
   "source": []
  },
  {
   "cell_type": "markdown",
   "id": "3464555b",
   "metadata": {},
   "source": [
    "# Day5"
   ]
  },
  {
   "cell_type": "markdown",
   "id": "8d0c7895",
   "metadata": {},
   "source": [
    "### Task1"
   ]
  },
  {
   "cell_type": "code",
   "execution_count": 32,
   "id": "97a18b8c",
   "metadata": {},
   "outputs": [],
   "source": [
    "with open('day5_input.txt') as f:\n",
    "    lines = f.readlines()\n",
    "    "
   ]
  },
  {
   "cell_type": "code",
   "execution_count": 33,
   "id": "4f406831",
   "metadata": {},
   "outputs": [],
   "source": [
    "import re"
   ]
  },
  {
   "cell_type": "code",
   "execution_count": 34,
   "id": "41054eb3",
   "metadata": {},
   "outputs": [],
   "source": [
    "instruction_pattern = re.compile(r\"move (\\d+) from (\\d+) to (\\d+)\")\n",
    "# instruction_list = instruction_pattern.search(lines)  # # can't search a list , needs to be string \n",
    "\n",
    "instruction_list = []\n",
    "\n",
    "for line in lines:\n",
    "    if instruction_pattern.search(line):\n",
    "        instruction_list.append(instruction_pattern.search(line).group())\n",
    "    \n",
    "# print(instruction_list)\n",
    "\n",
    "# # ['move 3 from 5 to 7', 'move 2 from 8 to 9', 'move 4 from 3 to 5', 'move 2 from 1 to 7', ...]"
   ]
  },
  {
   "cell_type": "code",
   "execution_count": 35,
   "id": "2f4eecb0",
   "metadata": {},
   "outputs": [
    {
     "name": "stdout",
     "output_type": "stream",
     "text": [
      "['            [J]             [B] [W]', '            [T]     [W] [F] [R] [Z]', '        [Q] [M]     [J] [R] [W] [H]', '    [F] [L] [P]     [R] [N] [Z] [G]', '[F] [M] [S] [Q]     [M] [P] [S] [C]', '[L] [V] [R] [V] [W] [P] [C] [P] [J]', '[M] [Z] [V] [S] [S] [V] [Q] [H] [M]', '[W] [B] [H] [F] [L] [F] [J] [V] [B]']\n"
     ]
    }
   ],
   "source": [
    "queue_lines = []\n",
    "\n",
    "for line in lines:\n",
    "    if instruction_pattern.search(line) or \"[\" not in line:\n",
    "        break\n",
    "#     print(line)\n",
    "    queue_lines.append(line.replace(\"\\n\", \"\"))\n",
    "    \n",
    "print(queue_lines)"
   ]
  },
  {
   "cell_type": "code",
   "execution_count": null,
   "id": "a4ddcbd1",
   "metadata": {},
   "outputs": [],
   "source": []
  },
  {
   "cell_type": "code",
   "execution_count": 95,
   "id": "48eeb5c6",
   "metadata": {},
   "outputs": [
    {
     "name": "stdout",
     "output_type": "stream",
     "text": [
      "     1     2     3     4     5     6     7     8     9\n",
      "0                    [J]                     [B]   [W]\n",
      "1                    [T]         [W]   [F]   [R]   [Z]\n",
      "2              [Q]   [M]         [J]   [R]   [W]   [H]\n",
      "3        [F]   [L]   [P]         [R]   [N]   [Z]   [G]\n",
      "4  [F]   [M]   [S]   [Q]         [M]   [P]   [S]   [C]\n",
      "5  [L]   [V]   [R]   [V]   [W]   [P]   [C]   [P]   [J]\n",
      "6  [M]   [Z]   [V]   [S]   [S]   [V]   [Q]   [H]   [M]\n",
      "7  [W]   [B]   [H]   [F]   [L]   [F]   [J]   [V]   [B]\n",
      "\n",
      "8\n",
      "9\n",
      "['   ', '   ', '   ', '   ', '[F]', '[L]', '[M]', '[W]']\n"
     ]
    }
   ],
   "source": [
    "import pandas as pd\n",
    "import string\n",
    "cols = [\"1\", \"2\", \"3\", \"4\", \"5\", \"6\", \"7\", \"8\", \"9\"]\n",
    "\n",
    "# df = pd.read_csv('day5_input.txt', delimiter = \"\\t\", header=None)\n",
    "df = pd.read_fwf('day5_input.txt', delimiter = \"\\t\", header=None, widths=[3,4,4,4,4,4,4,4, 4], names=cols)\n",
    "\n",
    "# print(df)\n",
    "# print()\n",
    "print(df.head(8))\n",
    "print()\n",
    "\n",
    "my_data_frame = df.head(8)\n",
    "\n",
    "capital_letters = list(string.ascii_uppercase)\n",
    "\n",
    "print(len(my_data_frame))\n",
    "print(len(my_data_frame.columns))\n",
    "\n",
    "# print(my_data_frame['1'].dropna().tolist())\n",
    "print(my_data_frame['1'].tolist())\n",
    "\n",
    "return_string = \"\"\n",
    "\n",
    "for i in range()"
   ]
  },
  {
   "cell_type": "code",
   "execution_count": null,
   "id": "c3d53260",
   "metadata": {},
   "outputs": [],
   "source": []
  },
  {
   "cell_type": "code",
   "execution_count": 85,
   "id": "bf47e665",
   "metadata": {},
   "outputs": [
    {
     "ename": "KeyError",
     "evalue": "4",
     "output_type": "error",
     "traceback": [
      "\u001b[1;31m---------------------------------------------------------------------------\u001b[0m",
      "\u001b[1;31mKeyError\u001b[0m                                  Traceback (most recent call last)",
      "\u001b[1;32m~\\anaconda3\\envs\\my_venv\\lib\\site-packages\\pandas\\core\\indexes\\base.py\u001b[0m in \u001b[0;36mget_loc\u001b[1;34m(self, key, method, tolerance)\u001b[0m\n\u001b[0;32m   3360\u001b[0m             \u001b[1;32mtry\u001b[0m\u001b[1;33m:\u001b[0m\u001b[1;33m\u001b[0m\u001b[1;33m\u001b[0m\u001b[0m\n\u001b[1;32m-> 3361\u001b[1;33m                 \u001b[1;32mreturn\u001b[0m \u001b[0mself\u001b[0m\u001b[1;33m.\u001b[0m\u001b[0m_engine\u001b[0m\u001b[1;33m.\u001b[0m\u001b[0mget_loc\u001b[0m\u001b[1;33m(\u001b[0m\u001b[0mcasted_key\u001b[0m\u001b[1;33m)\u001b[0m\u001b[1;33m\u001b[0m\u001b[1;33m\u001b[0m\u001b[0m\n\u001b[0m\u001b[0;32m   3362\u001b[0m             \u001b[1;32mexcept\u001b[0m \u001b[0mKeyError\u001b[0m \u001b[1;32mas\u001b[0m \u001b[0merr\u001b[0m\u001b[1;33m:\u001b[0m\u001b[1;33m\u001b[0m\u001b[1;33m\u001b[0m\u001b[0m\n",
      "\u001b[1;32m~\\anaconda3\\envs\\my_venv\\lib\\site-packages\\pandas\\_libs\\index.pyx\u001b[0m in \u001b[0;36mpandas._libs.index.IndexEngine.get_loc\u001b[1;34m()\u001b[0m\n",
      "\u001b[1;32m~\\anaconda3\\envs\\my_venv\\lib\\site-packages\\pandas\\_libs\\index.pyx\u001b[0m in \u001b[0;36mpandas._libs.index.IndexEngine.get_loc\u001b[1;34m()\u001b[0m\n",
      "\u001b[1;32mpandas\\_libs\\hashtable_class_helper.pxi\u001b[0m in \u001b[0;36mpandas._libs.hashtable.PyObjectHashTable.get_item\u001b[1;34m()\u001b[0m\n",
      "\u001b[1;32mpandas\\_libs\\hashtable_class_helper.pxi\u001b[0m in \u001b[0;36mpandas._libs.hashtable.PyObjectHashTable.get_item\u001b[1;34m()\u001b[0m\n",
      "\u001b[1;31mKeyError\u001b[0m: 4",
      "\nThe above exception was the direct cause of the following exception:\n",
      "\u001b[1;31mKeyError\u001b[0m                                  Traceback (most recent call last)",
      "\u001b[1;32m~\\AppData\\Local\\Temp/ipykernel_23584/4019274674.py\u001b[0m in \u001b[0;36m<module>\u001b[1;34m\u001b[0m\n\u001b[1;32m----> 1\u001b[1;33m \u001b[0mprint\u001b[0m\u001b[1;33m(\u001b[0m\u001b[0mdf\u001b[0m\u001b[1;33m[\u001b[0m\u001b[1;36m4\u001b[0m\u001b[1;33m]\u001b[0m\u001b[1;33m[\u001b[0m\u001b[1;36m1\u001b[0m\u001b[1;33m]\u001b[0m\u001b[1;33m.\u001b[0m\u001b[0mstrip\u001b[0m\u001b[1;33m(\u001b[0m\u001b[1;33m)\u001b[0m\u001b[1;33m)\u001b[0m\u001b[1;33m\u001b[0m\u001b[1;33m\u001b[0m\u001b[0m\n\u001b[0m\u001b[0;32m      2\u001b[0m \u001b[1;31m# print()\u001b[0m\u001b[1;33m\u001b[0m\u001b[1;33m\u001b[0m\u001b[1;33m\u001b[0m\u001b[0m\n\u001b[0;32m      3\u001b[0m \u001b[1;31m# print(df.head(8))\u001b[0m\u001b[1;33m\u001b[0m\u001b[1;33m\u001b[0m\u001b[1;33m\u001b[0m\u001b[0m\n\u001b[0;32m      4\u001b[0m \u001b[1;31m# print()\u001b[0m\u001b[1;33m\u001b[0m\u001b[1;33m\u001b[0m\u001b[1;33m\u001b[0m\u001b[0m\n\u001b[0;32m      5\u001b[0m \u001b[1;31m# print(df[0][7].strip())\u001b[0m\u001b[1;33m\u001b[0m\u001b[1;33m\u001b[0m\u001b[1;33m\u001b[0m\u001b[0m\n",
      "\u001b[1;32m~\\anaconda3\\envs\\my_venv\\lib\\site-packages\\pandas\\core\\frame.py\u001b[0m in \u001b[0;36m__getitem__\u001b[1;34m(self, key)\u001b[0m\n\u001b[0;32m   3453\u001b[0m             \u001b[1;32mif\u001b[0m \u001b[0mself\u001b[0m\u001b[1;33m.\u001b[0m\u001b[0mcolumns\u001b[0m\u001b[1;33m.\u001b[0m\u001b[0mnlevels\u001b[0m \u001b[1;33m>\u001b[0m \u001b[1;36m1\u001b[0m\u001b[1;33m:\u001b[0m\u001b[1;33m\u001b[0m\u001b[1;33m\u001b[0m\u001b[0m\n\u001b[0;32m   3454\u001b[0m                 \u001b[1;32mreturn\u001b[0m \u001b[0mself\u001b[0m\u001b[1;33m.\u001b[0m\u001b[0m_getitem_multilevel\u001b[0m\u001b[1;33m(\u001b[0m\u001b[0mkey\u001b[0m\u001b[1;33m)\u001b[0m\u001b[1;33m\u001b[0m\u001b[1;33m\u001b[0m\u001b[0m\n\u001b[1;32m-> 3455\u001b[1;33m             \u001b[0mindexer\u001b[0m \u001b[1;33m=\u001b[0m \u001b[0mself\u001b[0m\u001b[1;33m.\u001b[0m\u001b[0mcolumns\u001b[0m\u001b[1;33m.\u001b[0m\u001b[0mget_loc\u001b[0m\u001b[1;33m(\u001b[0m\u001b[0mkey\u001b[0m\u001b[1;33m)\u001b[0m\u001b[1;33m\u001b[0m\u001b[1;33m\u001b[0m\u001b[0m\n\u001b[0m\u001b[0;32m   3456\u001b[0m             \u001b[1;32mif\u001b[0m \u001b[0mis_integer\u001b[0m\u001b[1;33m(\u001b[0m\u001b[0mindexer\u001b[0m\u001b[1;33m)\u001b[0m\u001b[1;33m:\u001b[0m\u001b[1;33m\u001b[0m\u001b[1;33m\u001b[0m\u001b[0m\n\u001b[0;32m   3457\u001b[0m                 \u001b[0mindexer\u001b[0m \u001b[1;33m=\u001b[0m \u001b[1;33m[\u001b[0m\u001b[0mindexer\u001b[0m\u001b[1;33m]\u001b[0m\u001b[1;33m\u001b[0m\u001b[1;33m\u001b[0m\u001b[0m\n",
      "\u001b[1;32m~\\anaconda3\\envs\\my_venv\\lib\\site-packages\\pandas\\core\\indexes\\base.py\u001b[0m in \u001b[0;36mget_loc\u001b[1;34m(self, key, method, tolerance)\u001b[0m\n\u001b[0;32m   3361\u001b[0m                 \u001b[1;32mreturn\u001b[0m \u001b[0mself\u001b[0m\u001b[1;33m.\u001b[0m\u001b[0m_engine\u001b[0m\u001b[1;33m.\u001b[0m\u001b[0mget_loc\u001b[0m\u001b[1;33m(\u001b[0m\u001b[0mcasted_key\u001b[0m\u001b[1;33m)\u001b[0m\u001b[1;33m\u001b[0m\u001b[1;33m\u001b[0m\u001b[0m\n\u001b[0;32m   3362\u001b[0m             \u001b[1;32mexcept\u001b[0m \u001b[0mKeyError\u001b[0m \u001b[1;32mas\u001b[0m \u001b[0merr\u001b[0m\u001b[1;33m:\u001b[0m\u001b[1;33m\u001b[0m\u001b[1;33m\u001b[0m\u001b[0m\n\u001b[1;32m-> 3363\u001b[1;33m                 \u001b[1;32mraise\u001b[0m \u001b[0mKeyError\u001b[0m\u001b[1;33m(\u001b[0m\u001b[0mkey\u001b[0m\u001b[1;33m)\u001b[0m \u001b[1;32mfrom\u001b[0m \u001b[0merr\u001b[0m\u001b[1;33m\u001b[0m\u001b[1;33m\u001b[0m\u001b[0m\n\u001b[0m\u001b[0;32m   3364\u001b[0m \u001b[1;33m\u001b[0m\u001b[0m\n\u001b[0;32m   3365\u001b[0m         \u001b[1;32mif\u001b[0m \u001b[0mis_scalar\u001b[0m\u001b[1;33m(\u001b[0m\u001b[0mkey\u001b[0m\u001b[1;33m)\u001b[0m \u001b[1;32mand\u001b[0m \u001b[0misna\u001b[0m\u001b[1;33m(\u001b[0m\u001b[0mkey\u001b[0m\u001b[1;33m)\u001b[0m \u001b[1;32mand\u001b[0m \u001b[1;32mnot\u001b[0m \u001b[0mself\u001b[0m\u001b[1;33m.\u001b[0m\u001b[0mhasnans\u001b[0m\u001b[1;33m:\u001b[0m\u001b[1;33m\u001b[0m\u001b[1;33m\u001b[0m\u001b[0m\n",
      "\u001b[1;31mKeyError\u001b[0m: 4"
     ]
    }
   ],
   "source": [
    "print(df[0][0].strip())\n",
    "# print()\n",
    "# print(df.head(8))\n",
    "# print()\n",
    "# print(df[0][7].strip())\n",
    "# print()\n",
    "# print(len(df.head(8)))\n",
    "# print(len(df.head(8).columns))\n",
    "# print(df.head(8).shape[0])"
   ]
  },
  {
   "cell_type": "code",
   "execution_count": null,
   "id": "49edca72",
   "metadata": {},
   "outputs": [],
   "source": [
    "for in "
   ]
  },
  {
   "cell_type": "code",
   "execution_count": null,
   "id": "13b86f13",
   "metadata": {},
   "outputs": [],
   "source": []
  },
  {
   "cell_type": "code",
   "execution_count": null,
   "id": "e80a8c4a",
   "metadata": {},
   "outputs": [],
   "source": []
  },
  {
   "cell_type": "code",
   "execution_count": 2,
   "id": "889ea7b4",
   "metadata": {},
   "outputs": [
    {
     "ename": "TypeError",
     "evalue": "'type' object is not subscriptable",
     "output_type": "error",
     "traceback": [
      "\u001b[1;31m---------------------------------------------------------------------------\u001b[0m",
      "\u001b[1;31mTypeError\u001b[0m                                 Traceback (most recent call last)",
      "\u001b[1;32m~\\AppData\\Local\\Temp/ipykernel_32696/3624821039.py\u001b[0m in \u001b[0;36m<module>\u001b[1;34m\u001b[0m\n\u001b[0;32m      5\u001b[0m \u001b[1;33m\u001b[0m\u001b[0m\n\u001b[0;32m      6\u001b[0m \u001b[1;33m@\u001b[0m\u001b[0mdataclass\u001b[0m\u001b[1;33m\u001b[0m\u001b[1;33m\u001b[0m\u001b[0m\n\u001b[1;32m----> 7\u001b[1;33m \u001b[1;32mclass\u001b[0m \u001b[0mStacks\u001b[0m\u001b[1;33m:\u001b[0m\u001b[1;33m\u001b[0m\u001b[1;33m\u001b[0m\u001b[0m\n\u001b[0m\u001b[0;32m      8\u001b[0m     \u001b[0mstacks\u001b[0m\u001b[1;33m:\u001b[0m \u001b[0mtuple\u001b[0m\u001b[1;33m[\u001b[0m\u001b[0mlist\u001b[0m\u001b[1;33m[\u001b[0m\u001b[0mstr\u001b[0m\u001b[1;33m]\u001b[0m\u001b[1;33m]\u001b[0m\u001b[1;33m\u001b[0m\u001b[1;33m\u001b[0m\u001b[0m\n\u001b[0;32m      9\u001b[0m \u001b[1;33m\u001b[0m\u001b[0m\n",
      "\u001b[1;32m~\\AppData\\Local\\Temp/ipykernel_32696/3624821039.py\u001b[0m in \u001b[0;36mStacks\u001b[1;34m()\u001b[0m\n\u001b[0;32m      6\u001b[0m \u001b[1;33m@\u001b[0m\u001b[0mdataclass\u001b[0m\u001b[1;33m\u001b[0m\u001b[1;33m\u001b[0m\u001b[0m\n\u001b[0;32m      7\u001b[0m \u001b[1;32mclass\u001b[0m \u001b[0mStacks\u001b[0m\u001b[1;33m:\u001b[0m\u001b[1;33m\u001b[0m\u001b[1;33m\u001b[0m\u001b[0m\n\u001b[1;32m----> 8\u001b[1;33m     \u001b[0mstacks\u001b[0m\u001b[1;33m:\u001b[0m \u001b[0mtuple\u001b[0m\u001b[1;33m[\u001b[0m\u001b[0mlist\u001b[0m\u001b[1;33m[\u001b[0m\u001b[0mstr\u001b[0m\u001b[1;33m]\u001b[0m\u001b[1;33m]\u001b[0m\u001b[1;33m\u001b[0m\u001b[1;33m\u001b[0m\u001b[0m\n\u001b[0m\u001b[0;32m      9\u001b[0m \u001b[1;33m\u001b[0m\u001b[0m\n\u001b[0;32m     10\u001b[0m     \u001b[1;32mdef\u001b[0m \u001b[0m__str__\u001b[0m\u001b[1;33m(\u001b[0m\u001b[0mself\u001b[0m\u001b[1;33m)\u001b[0m \u001b[1;33m->\u001b[0m \u001b[0mstr\u001b[0m\u001b[1;33m:\u001b[0m\u001b[1;33m\u001b[0m\u001b[1;33m\u001b[0m\u001b[0m\n",
      "\u001b[1;31mTypeError\u001b[0m: 'type' object is not subscriptable"
     ]
    }
   ],
   "source": [
    "import re\n",
    "from dataclasses import dataclass\n",
    "from typing import NamedTuple, Self\n",
    "\n",
    "\n",
    "@dataclass\n",
    "class Stacks:\n",
    "    stacks: tuple[list[str]]\n",
    "\n",
    "    def __str__(self) -> str:\n",
    "        stacks = [list(stack) for stack in self.stacks]\n",
    "        max_height = max(len(stack) for stack in stacks)\n",
    "        cols = []\n",
    "        for i, stack in enumerate(stacks, 1):\n",
    "            if cols:\n",
    "                cols.append(\" \" * (max_height + 1))\n",
    "            padding = \" \" * (max_height - len(stack))\n",
    "            cols.append(\" \" + \"[\" * len(stack) + padding)\n",
    "            cols.append(str(i) + \"\".join(stack) + padding)\n",
    "            cols.append(\" \" + \"]\" * len(stack) + padding)\n",
    "        lines = [\"\".join(line) for line in zip(*cols)]\n",
    "        return \"\\n\".join(lines[::-1])\n",
    "\n",
    "    @classmethod\n",
    "    def from_text(cls, text: str) -> Self:\n",
    "        # drop the number line, reverse, and only keep the letters columns\n",
    "        lines = [line[1::4] for line in text.splitlines()[-2::-1]]\n",
    "        stacks = [[letter for letter in col if letter != \" \"] for col in zip(*lines)]\n",
    "        return cls(tuple(stacks))\n",
    "\n",
    "    @property\n",
    "    def tops(self) -> str:\n",
    "        return \"\".join([stack[-1] for stack in self.stacks])\n",
    "\n",
    "    def move_crates(self, source: int, target: int, count: int = 1) -> None:\n",
    "        source_stack, target_stack = self.stacks[source], self.stacks[target]\n",
    "        target_stack += source_stack[-count:]\n",
    "        del source_stack[-count:]\n",
    "\n",
    "\n",
    "_move: re.Pattern[str] = re.compile(\n",
    "    r\"move (?P<count>\\d+) from (?P<source>\\d+) to (?P<target>\\d+)\"\n",
    ")\n",
    "\n",
    "\n",
    "class CraneMove(NamedTuple):\n",
    "    count: int\n",
    "    source: int\n",
    "    target: int\n",
    "\n",
    "    def __str__(self) -> str:\n",
    "        return f\"move {self.count} from {self.source + 1} to {self.target + 1}\"\n",
    "\n",
    "    @classmethod\n",
    "    def from_line(cls, line: str) -> Self:\n",
    "        match = _move.search(line)\n",
    "        assert match is not None\n",
    "        params = {k: int(v) for k, v in match.groupdict().items()}\n",
    "        params[\"source\"] -= 1\n",
    "        params[\"target\"] -= 1\n",
    "        return cls(**params)\n",
    "\n",
    "\n",
    "@dataclass\n",
    "class Crane9000Moves:\n",
    "    moves: list[CraneMove]\n",
    "\n",
    "    def __str__(self) -> str:\n",
    "        return \"\\n\".join([str(move) for move in self.moves])\n",
    "\n",
    "    @classmethod\n",
    "    def from_text(cls, text: str) -> Self:\n",
    "        return cls([CraneMove.from_line(line) for line in text.splitlines()])\n",
    "\n",
    "    def rearrange(self, stacks: Stacks):\n",
    "        for move in self.moves:\n",
    "            for _ in range(move.count):\n",
    "                stacks.move_crates(move.source, move.target)\n",
    "\n",
    "\n",
    "example: str = \"\"\"\\\n",
    "    [D]    \n",
    "[N] [C]    \n",
    "[Z] [M] [P]\n",
    " 1   2   3 \n",
    "\n",
    "move 1 from 2 to 1\n",
    "move 3 from 1 to 3\n",
    "move 2 from 2 to 1\n",
    "move 1 from 1 to 2\n",
    "\"\"\"\n",
    "\n",
    "test_stacks = Stacks.from_text(example.partition(\"\\n\\n\")[0])\n",
    "Crane9000Moves.from_text(example.partition(\"\\n\\n\")[-1]).rearrange(test_stacks)\n",
    "assert test_stacks.tops == \"CMZ\"\n",
    "\n",
    "import aocd\n",
    "\n",
    "\n",
    "starting_positions, _, procedure = aocd.get_data(day=5, year=2022).partition(\"\\n\\n\")\n",
    "\n",
    "stacks = Stacks.from_text(starting_positions)\n",
    "crane = Crane9000Moves.from_text(procedure)\n",
    "crane.rearrange(stacks)\n",
    "print(\"Part 1:\", stacks.tops)\n",
    "\n",
    "\n"
   ]
  },
  {
   "cell_type": "code",
   "execution_count": null,
   "id": "7f11175a",
   "metadata": {},
   "outputs": [],
   "source": []
  },
  {
   "cell_type": "code",
   "execution_count": null,
   "id": "d4834646",
   "metadata": {},
   "outputs": [],
   "source": []
  },
  {
   "cell_type": "code",
   "execution_count": 24,
   "id": "43d7ebe9",
   "metadata": {},
   "outputs": [
    {
     "name": "stdout",
     "output_type": "stream",
     "text": [
      "['            [J]             [B] [W]', '            [T]     [W] [F] [R] [Z]', '        [Q] [M]     [J] [R] [W] [H]', '    [F] [L] [P]     [R] [N] [Z] [G]', '[F] [M] [S] [Q]     [M] [P] [S] [C]', '[L] [V] [R] [V] [W] [P] [C] [P] [J]', '[M] [Z] [V] [S] [S] [V] [Q] [H] [M]', '[W] [B] [H] [F] [L] [F] [J] [V] [B]', ' 1   2   3   4   5   6   7   8   9 ']\n",
      "\n",
      "\n",
      "[['    ', '    ', '    ', '[J] ', '    ', '    ', '    ', '[B] ', '[W]'], ['    ', '    ', '    ', '[T] ', '    ', '[W] ', '[F] ', '[R] ', '[Z]'], ['    ', '    ', '[Q] ', '[M] ', '    ', '[J] ', '[R] ', '[W] ', '[H]'], ['    ', '[F] ', '[L] ', '[P] ', '    ', '[R] ', '[N] ', '[Z] ', '[G]'], ['[F] ', '[M] ', '[S] ', '[Q] ', '    ', '[M] ', '[P] ', '[S] ', '[C]'], ['[L] ', '[V] ', '[R] ', '[V] ', '[W] ', '[P] ', '[C] ', '[P] ', '[J]'], ['[M] ', '[Z] ', '[V] ', '[S] ', '[S] ', '[V] ', '[Q] ', '[H] ', '[M]'], ['[W] ', '[B] ', '[H] ', '[F] ', '[L] ', '[F] ', '[J] ', '[V] ', '[B]']]\n",
      "\n",
      "\n"
     ]
    },
    {
     "ename": "IndexError",
     "evalue": "list index out of range",
     "output_type": "error",
     "traceback": [
      "\u001b[1;31m---------------------------------------------------------------------------\u001b[0m",
      "\u001b[1;31mIndexError\u001b[0m                                Traceback (most recent call last)",
      "Cell \u001b[1;32mIn[24], line 75\u001b[0m\n\u001b[0;32m     71\u001b[0m             \u001b[38;5;28;01melse\u001b[39;00m:\n\u001b[0;32m     72\u001b[0m                 initial_stacks_of_crates[index\u001b[38;5;241m+\u001b[39m\u001b[38;5;241m1\u001b[39m] \u001b[38;5;241m=\u001b[39m [crate]\n\u001b[1;32m---> 75\u001b[0m [old_crane, new_crane] \u001b[38;5;241m=\u001b[39m \u001b[43mperform_procedure\u001b[49m\u001b[43m(\u001b[49m\u001b[43minitial_stacks_of_crates\u001b[49m\u001b[43m,\u001b[49m\u001b[43m \u001b[49m\u001b[43mrearrangement_procedure\u001b[49m\u001b[43m)\u001b[49m\n\u001b[0;32m     77\u001b[0m \u001b[38;5;66;03m# part 1\u001b[39;00m\n\u001b[0;32m     78\u001b[0m old_top_crates \u001b[38;5;241m=\u001b[39m get_top_crates(old_crane)\n",
      "Cell \u001b[1;32mIn[24], line 18\u001b[0m, in \u001b[0;36mperform_procedure\u001b[1;34m(stacks_of_crates, rearrangement_procedure)\u001b[0m\n\u001b[0;32m     15\u001b[0m \u001b[38;5;28;01mfor\u001b[39;00m procedure \u001b[38;5;129;01min\u001b[39;00m rearrangement_procedure:\n\u001b[0;32m     16\u001b[0m     procedure \u001b[38;5;241m=\u001b[39m procedure\u001b[38;5;241m.\u001b[39msplit(\u001b[38;5;124m\"\u001b[39m\u001b[38;5;124m \u001b[39m\u001b[38;5;124m\"\u001b[39m)\n\u001b[1;32m---> 18\u001b[0m     num_of_items_to_move \u001b[38;5;241m=\u001b[39m \u001b[38;5;28mint\u001b[39m(\u001b[43mprocedure\u001b[49m\u001b[43m[\u001b[49m\u001b[38;5;241;43m1\u001b[39;49m\u001b[43m]\u001b[49m)\n\u001b[0;32m     19\u001b[0m     take_from_stack \u001b[38;5;241m=\u001b[39m \u001b[38;5;28mint\u001b[39m(procedure[\u001b[38;5;241m3\u001b[39m])\n\u001b[0;32m     20\u001b[0m     place_into_stack \u001b[38;5;241m=\u001b[39m \u001b[38;5;28mint\u001b[39m(procedure[\u001b[38;5;241m5\u001b[39m])\n",
      "\u001b[1;31mIndexError\u001b[0m: list index out of range"
     ]
    }
   ],
   "source": [
    "import copy\n",
    "import re\n",
    "from pathlib import Path\n",
    "\n",
    "INPUT_FILE = 'day5_input.txt'\n",
    "# INPUT_FILE = 'input5.txt'\n",
    "\n",
    "\n",
    "def perform_procedure(stacks_of_crates, rearrangement_procedure):\n",
    "    \"\"\"Perform operations based on the procedure\"\"\"\n",
    "\n",
    "    old_crane = copy.deepcopy(stacks_of_crates)\n",
    "    new_crane = copy.deepcopy(stacks_of_crates)\n",
    "\n",
    "    for procedure in rearrangement_procedure:\n",
    "        procedure = procedure.split(\" \")\n",
    "\n",
    "        num_of_items_to_move = int(procedure[1])\n",
    "        take_from_stack = int(procedure[3])\n",
    "        place_into_stack = int(procedure[5])\n",
    "\n",
    "        for _ in range(0, num_of_items_to_move):\n",
    "            old_crane[place_into_stack].insert(0, old_crane[take_from_stack].pop(0))\n",
    "\n",
    "        crane_removed_items = new_crane[take_from_stack][0:num_of_items_to_move]\n",
    "        del new_crane[take_from_stack][0:num_of_items_to_move]\n",
    "\n",
    "        new_crane[place_into_stack] = crane_removed_items + new_crane[place_into_stack]\n",
    "\n",
    "    return (old_crane, new_crane)\n",
    "\n",
    "\n",
    "def get_top_crates(stacks_of_crates):\n",
    "    \"\"\"Return top creates as a string\"\"\"\n",
    "\n",
    "    top_crates = \"\"\n",
    "\n",
    "    for stacks in range(1, len(stacks_of_crates)+1):\n",
    "        top_crates = top_crates + stacks_of_crates[stacks][0].replace(\"[\", \"\").replace(\"]\", \"\")\n",
    "\n",
    "    return top_crates\n",
    "\n",
    "\n",
    "with open(INPUT_FILE, \"r\", encoding=\"UTF-8\") as str_file:\n",
    "    # split on empty lines\n",
    "    drawing = str_file.read().split(\"\\n\\n\")\n",
    "\n",
    "    drawing_of_crates = drawing[0].split(\"\\n\")\n",
    "    rearrangement_procedure = drawing[1].split(\"\\n\")\n",
    "    \n",
    "    print(drawing_of_crates)\n",
    "    print()\n",
    "#     print(rearrangement_procedure)\n",
    "\n",
    "    horizontal_crates_drawing = [re.findall(r\".{1,4}\", row) for row in drawing_of_crates[:-1]]\n",
    "    \n",
    "    print()\n",
    "    print(horizontal_crates_drawing)\n",
    "    print()\n",
    "    print()\n",
    "\n",
    "    initial_stacks_of_crates = {}\n",
    "\n",
    "    # create initial stacks from drawing\n",
    "    for row in horizontal_crates_drawing:\n",
    "        for index, crate in enumerate(row):\n",
    "            crate = crate.strip()\n",
    "            if crate != \"\":\n",
    "                if index+1 in initial_stacks_of_crates:\n",
    "                    initial_stacks_of_crates[index+1].append(crate)\n",
    "                else:\n",
    "                    initial_stacks_of_crates[index+1] = [crate]\n",
    "\n",
    "\n",
    "    [old_crane, new_crane] = perform_procedure(initial_stacks_of_crates, rearrangement_procedure)\n",
    "\n",
    "    # part 1\n",
    "    old_top_crates = get_top_crates(old_crane)\n",
    "    print(old_top_crates)\n",
    "\n",
    "    # part 2\n",
    "    new_top_crates = get_top_crates(new_crane)\n",
    "    print(new_top_crates)"
   ]
  },
  {
   "cell_type": "code",
   "execution_count": null,
   "id": "a82a4d4a",
   "metadata": {},
   "outputs": [],
   "source": []
  },
  {
   "cell_type": "markdown",
   "id": "7a099d48",
   "metadata": {},
   "source": [
    "### Task1&2"
   ]
  },
  {
   "cell_type": "code",
   "execution_count": 25,
   "id": "e30cd460",
   "metadata": {},
   "outputs": [
    {
     "name": "stdout",
     "output_type": "stream",
     "text": [
      "---Part One---\n",
      "VRWBSFZWM\n",
      "---Part Two---\n",
      "RBTWJWMCF\n"
     ]
    }
   ],
   "source": [
    "import copy\n",
    "from collections import defaultdict\n",
    "\n",
    "\n",
    "def part_one(filename: str) -> str:\n",
    "    stacks, instructions = parse_input(filename)\n",
    "    stacks = process_instructions_9000(stacks, instructions)\n",
    "    return get_stack_tops(stacks)\n",
    "\n",
    "\n",
    "def part_two(filename: str) -> str:\n",
    "    stacks, instructions = parse_input(filename)\n",
    "    stacks = process_instructions_9001(stacks, instructions)\n",
    "    return get_stack_tops(stacks)\n",
    "\n",
    "\n",
    "def get_stack_tops(stacks: dict[int, list[str]]) -> str:\n",
    "    tops = \"\"\n",
    "    for ind in range(len(stacks)):\n",
    "        tops += stacks[ind + 1][-1]\n",
    "    return tops\n",
    "\n",
    "\n",
    "def process_instructions_9000(\n",
    "    stacks: dict[int, list[str]], instructions: list[list[int]]\n",
    ") -> dict[int, list[str]]:\n",
    "    new_stacks = copy.deepcopy(stacks)\n",
    "    for count, start, end in instructions:\n",
    "        for _ in range(count):\n",
    "            new_stacks[end].append(new_stacks[start].pop())\n",
    "    return new_stacks\n",
    "\n",
    "\n",
    "def process_instructions_9001(\n",
    "    stacks: dict[int, list[str]], instructions: list[list[int]]\n",
    ") -> dict[int, list[str]]:\n",
    "    new_stacks = copy.deepcopy(stacks)\n",
    "    for count, start, end in instructions:\n",
    "        tmp = new_stacks[start][-count:]\n",
    "        new_stacks[end].extend(tmp)\n",
    "        new_stacks[start] = new_stacks[start][:-count]\n",
    "    return new_stacks\n",
    "\n",
    "\n",
    "def parse_input(filename: str) -> tuple[dict[int, list[str]], list[list[int]]]:\n",
    "    with open(filename, \"r\", encoding=\"utf8\") as f:\n",
    "        stacks_str, commands = f.read().split(\"\\n\\n\")\n",
    "    stacks_list = stacks_str.split(\"\\n\")\n",
    "    stacks: dict[int, list[str]] = defaultdict(list)\n",
    "    for stack in stacks_list[-2::-1]:\n",
    "        for i, box in enumerate(stack[1::4]):\n",
    "            if box != \" \":\n",
    "                stacks[i + 1].append(box)\n",
    "\n",
    "    instructions = []\n",
    "    for command in commands.strip().split(\"\\n\"):\n",
    "        _, n, _, src, _, dest = command.split()\n",
    "        instructions.append(list(map(int, [n, src, dest])))\n",
    "    return stacks, instructions\n",
    "\n",
    "\n",
    "if __name__ == \"__main__\":\n",
    "    input_path = \"day5_input.txt\"\n",
    "    print(\"---Part One---\")\n",
    "    print(part_one(input_path))\n",
    "\n",
    "    print(\"---Part Two---\")\n",
    "    print(part_two(input_path))"
   ]
  },
  {
   "cell_type": "code",
   "execution_count": null,
   "id": "ccae00f4",
   "metadata": {},
   "outputs": [],
   "source": []
  }
 ],
 "metadata": {
  "kernelspec": {
   "display_name": "Python 3 (ipykernel)",
   "language": "python",
   "name": "python3"
  },
  "language_info": {
   "codemirror_mode": {
    "name": "ipython",
    "version": 3
   },
   "file_extension": ".py",
   "mimetype": "text/x-python",
   "name": "python",
   "nbconvert_exporter": "python",
   "pygments_lexer": "ipython3",
   "version": "3.9.15"
  },
  "vscode": {
   "interpreter": {
    "hash": "2b2243faa631384377c823394dc9b10ab281fd66f6334b5771c1c6004f74f42f"
   }
  }
 },
 "nbformat": 4,
 "nbformat_minor": 5
}
