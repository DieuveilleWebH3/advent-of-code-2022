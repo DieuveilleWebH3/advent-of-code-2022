{
 "cells": [
  {
   "cell_type": "code",
   "execution_count": null,
   "id": "dc70ce70",
   "metadata": {},
   "outputs": [],
   "source": []
  },
  {
   "cell_type": "markdown",
   "id": "44e73153",
   "metadata": {},
   "source": [
    "# Dieuveille's Advent of Code 2022  \n"
   ]
  },
  {
   "cell_type": "code",
   "execution_count": null,
   "id": "ce3d261e",
   "metadata": {},
   "outputs": [],
   "source": []
  },
  {
   "cell_type": "code",
   "execution_count": null,
   "id": "129681bf",
   "metadata": {},
   "outputs": [],
   "source": []
  },
  {
   "cell_type": "markdown",
   "id": "35622409",
   "metadata": {},
   "source": [
    "## Day 1"
   ]
  },
  {
   "cell_type": "markdown",
   "id": "85005821",
   "metadata": {},
   "source": [
    "### Task 1"
   ]
  },
  {
   "cell_type": "code",
   "execution_count": 1,
   "id": "2aa560b2",
   "metadata": {},
   "outputs": [],
   "source": [
    "with open('day1_input.txt') as f:\n",
    "    lines = f.readlines()"
   ]
  },
  {
   "cell_type": "code",
   "execution_count": 2,
   "id": "db38ee0b",
   "metadata": {
    "scrolled": true
   },
   "outputs": [],
   "source": [
    "elf_calory_lists = []\n",
    "\n",
    "# print(lines)\n",
    "\n",
    "# print(\"\\n\")\n",
    "\n",
    "temp = []\n",
    "\n",
    "for l in lines:\n",
    "#     print(l.strip())\n",
    "    if l and l!='' and l!=\"\\n\":\n",
    "        temp.append(int(l.strip()))\n",
    "    else:\n",
    "        elf_calory_lists.append(temp)\n",
    "        temp = []\n",
    "        \n",
    "# print(elf_calory_lists)\n",
    "    "
   ]
  },
  {
   "cell_type": "code",
   "execution_count": 3,
   "id": "1e75a85d",
   "metadata": {},
   "outputs": [
    {
     "name": "stdout",
     "output_type": "stream",
     "text": [
      "66719\n"
     ]
    }
   ],
   "source": [
    "biggest = 0\n",
    "\n",
    "for calory in elf_calory_lists:\n",
    "    biggest = sum(calory) if sum(calory) > biggest else biggest\n",
    "    \n",
    "print(biggest)"
   ]
  },
  {
   "cell_type": "code",
   "execution_count": null,
   "id": "8bb5c708",
   "metadata": {},
   "outputs": [],
   "source": []
  },
  {
   "cell_type": "markdown",
   "id": "743b7e21",
   "metadata": {},
   "source": [
    "### Task 2"
   ]
  },
  {
   "cell_type": "code",
   "execution_count": 4,
   "id": "0bb0598b",
   "metadata": {},
   "outputs": [
    {
     "name": "stdout",
     "output_type": "stream",
     "text": [
      "198551\n"
     ]
    }
   ],
   "source": [
    "big_three = [ sum(elf_calories) for elf_calories in elf_calory_lists ]\n",
    "    \n",
    "big_three.sort(reverse=True)\n",
    "big_three = big_three[:3]\n",
    "\n",
    "# print(big_three)\n",
    "\n",
    "big_three_sum = sum(big_three)\n",
    "\n",
    "print(big_three_sum)\n",
    "\n"
   ]
  },
  {
   "cell_type": "code",
   "execution_count": null,
   "id": "75526482",
   "metadata": {},
   "outputs": [],
   "source": []
  },
  {
   "cell_type": "code",
   "execution_count": null,
   "id": "01a78612",
   "metadata": {},
   "outputs": [],
   "source": []
  },
  {
   "cell_type": "markdown",
   "id": "96fe527c",
   "metadata": {},
   "source": [
    "## Day 2"
   ]
  },
  {
   "cell_type": "markdown",
   "id": "a726ad9d",
   "metadata": {},
   "source": [
    "### Task1"
   ]
  },
  {
   "cell_type": "code",
   "execution_count": 5,
   "id": "a77b8d1b",
   "metadata": {},
   "outputs": [],
   "source": [
    "with open('day2_input.txt') as f:\n",
    "    lines = f.readlines()"
   ]
  },
  {
   "cell_type": "code",
   "execution_count": 6,
   "id": "26d80103",
   "metadata": {},
   "outputs": [],
   "source": [
    "choices = [\n",
    "l.strip().replace('\\n', '') for l in lines if l and l != '' and l != \"\\n\"\n",
    "]\n",
    "\n",
    "# print(lines)\n",
    "\n",
    "# print(choices)\n"
   ]
  },
  {
   "cell_type": "code",
   "execution_count": 7,
   "id": "72f7fd90",
   "metadata": {},
   "outputs": [],
   "source": [
    "def round_result(the_list):\n",
    "    \"\"\"    \n",
    "    A -- Rock -- X\n",
    "    B -- Paper -- Y\n",
    "    C -- Scissors -- Z\n",
    "    \n",
    "    X -- 1 \n",
    "    Y -- 2 \n",
    "    Z -- 3 \n",
    "    \n",
    "    Loss 0\n",
    "    Draw 3 \n",
    "    Win 6\n",
    "    \"\"\"\n",
    "    score = 0\n",
    "    for x in the_list:\n",
    "        if x == \"\" : score += 0\n",
    "        elif x == \"A X\" : score += 4\n",
    "        elif x == \"A Y\" : score += 8\n",
    "        elif x == \"A Z\" : score += 3\n",
    "        elif x == \"B X\" : score += 1\n",
    "        elif x == \"B Y\" : score += 5\n",
    "        elif x == \"B Z\" : score += 9\n",
    "        elif x == \"C X\" : score += 7\n",
    "        elif x == \"C Y\" : score += 2\n",
    "        elif x == \"C Z\" : score += 6\n",
    "    return score"
   ]
  },
  {
   "cell_type": "code",
   "execution_count": 8,
   "id": "efecf9cd",
   "metadata": {},
   "outputs": [
    {
     "data": {
      "text/plain": [
       "13268"
      ]
     },
     "execution_count": 8,
     "metadata": {},
     "output_type": "execute_result"
    }
   ],
   "source": [
    "round_result(choices)"
   ]
  },
  {
   "cell_type": "code",
   "execution_count": 9,
   "id": "11c503e1",
   "metadata": {},
   "outputs": [
    {
     "data": {
      "text/plain": [
       "15"
      ]
     },
     "execution_count": 9,
     "metadata": {},
     "output_type": "execute_result"
    }
   ],
   "source": [
    "round_result([\"A Y\", \"B X\", \"C Z\"])"
   ]
  },
  {
   "cell_type": "code",
   "execution_count": null,
   "id": "b7412667",
   "metadata": {},
   "outputs": [],
   "source": []
  },
  {
   "cell_type": "markdown",
   "id": "83276963",
   "metadata": {},
   "source": [
    "### Task2"
   ]
  },
  {
   "cell_type": "code",
   "execution_count": 26,
   "id": "07acd928",
   "metadata": {},
   "outputs": [],
   "source": [
    "def round_result2(the_list):\n",
    "    \"\"\"\n",
    "    X == Loss\n",
    "    Y == Draw\n",
    "    Z == Win\n",
    "    \n",
    "    X -> Rock\n",
    "    Y ->Paper\n",
    "    Z ->Scissors\n",
    "    \n",
    "    Loss 0\n",
    "    Draw 3 \n",
    "    Win 6\n",
    "    \"\"\"\n",
    "    score = 0\n",
    "    for x in the_list:\n",
    "        if x == \"\" : score += 0\n",
    "        elif x == \"A X\" : score += 3 + 0\n",
    "        elif x == \"A Y\" : score += 1 + 3\n",
    "        elif x == \"A Z\" : score += 2 + 6\n",
    "        elif x == \"B X\" : score += 1 + 0\n",
    "        elif x == \"B Y\" : score += 2 + 3\n",
    "        elif x == \"B Z\" : score += 3 + 6\n",
    "        elif x == \"C X\" : score += 2 + 0\n",
    "        elif x == \"C Y\" : score += 3 + 3\n",
    "        elif x == \"C Z\" : score += 1 + 6\n",
    "    return score"
   ]
  },
  {
   "cell_type": "code",
   "execution_count": 27,
   "id": "1a1afe02",
   "metadata": {},
   "outputs": [
    {
     "data": {
      "text/plain": [
       "15508"
      ]
     },
     "execution_count": 27,
     "metadata": {},
     "output_type": "execute_result"
    }
   ],
   "source": [
    "round_result2(choices)"
   ]
  },
  {
   "cell_type": "code",
   "execution_count": null,
   "id": "3169f9d6",
   "metadata": {},
   "outputs": [],
   "source": []
  },
  {
   "cell_type": "code",
   "execution_count": null,
   "id": "a0528aa3",
   "metadata": {},
   "outputs": [],
   "source": []
  },
  {
   "cell_type": "code",
   "execution_count": null,
   "id": "b4d72c35",
   "metadata": {},
   "outputs": [],
   "source": []
  },
  {
   "cell_type": "markdown",
   "id": "d1f9362c",
   "metadata": {},
   "source": [
    "## Day 3"
   ]
  },
  {
   "cell_type": "markdown",
   "id": "80aadd25",
   "metadata": {},
   "source": [
    "### Task1"
   ]
  },
  {
   "cell_type": "code",
   "execution_count": 28,
   "id": "90a349a4",
   "metadata": {},
   "outputs": [],
   "source": [
    "with open('day3_input.txt') as f:\n",
    "    lines = f.readlines()\n",
    "    "
   ]
  },
  {
   "cell_type": "code",
   "execution_count": 29,
   "id": "11383918",
   "metadata": {},
   "outputs": [],
   "source": [
    "import string\n",
    "    \n",
    "def get_priority_score(the_string):\n",
    "    # lowercase_priority = list(string.ascii_lowercase)\n",
    "    # cuppercase_priority = list(string.ascii_uppercase)\n",
    "    # all_priority = lowercase_priority + cuppercase_priority\n",
    "    all_priority = list(string.ascii_letters)\n",
    "    all_priority_score = {}\n",
    "    all_priority_score = { value : index+1 for index, value in enumerate(all_priority) }\n",
    "    \n",
    "#     print(all_priority_score)\n",
    "    \n",
    "    length = len(the_string) \n",
    "        \n",
    "    for priority in all_priority_score:\n",
    "        if priority in the_string[: length // 2] and priority in the_string[length // 2 :]:\n",
    "            #  compartments_score.append(all_priority_score[priority])\n",
    "            return all_priority_score[priority]\n",
    "            \n",
    "            \n",
    "    "
   ]
  },
  {
   "cell_type": "code",
   "execution_count": 30,
   "id": "8a9a3f40",
   "metadata": {},
   "outputs": [
    {
     "name": "stdout",
     "output_type": "stream",
     "text": [
      "8085\n"
     ]
    }
   ],
   "source": [
    "### def get_priority_type(a_string):\n",
    "    \n",
    "compartments_score = [ get_priority_score(line.replace('\\n', '')) for line in lines ]\n",
    "\n",
    "# print(lines)\n",
    "    \n",
    "print(sum(compartments_score))\n"
   ]
  },
  {
   "cell_type": "code",
   "execution_count": null,
   "id": "077fc117",
   "metadata": {},
   "outputs": [],
   "source": []
  },
  {
   "cell_type": "markdown",
   "id": "9fd87cec",
   "metadata": {},
   "source": [
    "### Task 2"
   ]
  },
  {
   "cell_type": "code",
   "execution_count": 31,
   "id": "97ae740d",
   "metadata": {},
   "outputs": [],
   "source": [
    "group1 = [\"vJrwpWtwJgWrhcsFMMfFFhFp\", \"jqHRNqRjqzjGDLGLrsFMfFZSrLrFZsSL\", \"PmmdzqPrVvPwwTWBwg\"]\n",
    "group2 = [\"wMqvLMZHhHMvwLHjbvcjnnSBnvTQFn\", \"ttgJtRGJQctTZtZT\", \"CrZsJsPPZsGzwwsLwLmpwMDw\"]"
   ]
  },
  {
   "cell_type": "code",
   "execution_count": 32,
   "id": "18d932fd",
   "metadata": {},
   "outputs": [],
   "source": [
    "groups = group1 + group2\n",
    "\n"
   ]
  },
  {
   "cell_type": "code",
   "execution_count": 33,
   "id": "1446119c",
   "metadata": {},
   "outputs": [],
   "source": [
    "import string\n",
    "    \n",
    "def get_priority_score2(the_string_list):\n",
    "    all_priority = list(string.ascii_letters)\n",
    "\n",
    "    all_priority_score = {}\n",
    "    all_priority_score = { value : index+1 for index, value in enumerate(all_priority) }\n",
    "    \n",
    "    substring1, substring2, substring3 = the_string_list[0], the_string_list[1], the_string_list[2]\n",
    "\n",
    "    for priority in all_priority_score:\n",
    "        if priority in substring1 and priority in substring2 and priority in substring3:\n",
    "            return all_priority_score[priority]\n",
    "            "
   ]
  },
  {
   "cell_type": "code",
   "execution_count": 34,
   "id": "9f1cae1c",
   "metadata": {},
   "outputs": [
    {
     "name": "stdout",
     "output_type": "stream",
     "text": [
      "70\n"
     ]
    }
   ],
   "source": [
    "new_compartments_score = [ get_priority_score2(groups[x:x+3]) for x in range(0, len(groups), 3) ]\n",
    "\n",
    "    \n",
    "print(sum(new_compartments_score))"
   ]
  },
  {
   "cell_type": "code",
   "execution_count": 35,
   "id": "8bbb69a9",
   "metadata": {},
   "outputs": [
    {
     "name": "stdout",
     "output_type": "stream",
     "text": [
      "2515\n"
     ]
    }
   ],
   "source": [
    "with open('day3_input.txt') as f:\n",
    "    lines = f.readlines()\n",
    "    \n",
    "new_compartments_score = [ get_priority_score2(lines[x:x+3]) for x in range(0, len(lines), 3) ]\n",
    "\n",
    "    \n",
    "print(sum(new_compartments_score))\n"
   ]
  },
  {
   "cell_type": "code",
   "execution_count": null,
   "id": "ee527a73",
   "metadata": {},
   "outputs": [],
   "source": []
  },
  {
   "cell_type": "code",
   "execution_count": null,
   "id": "4fde9f80",
   "metadata": {},
   "outputs": [],
   "source": []
  },
  {
   "cell_type": "code",
   "execution_count": null,
   "id": "74bc5b7b",
   "metadata": {},
   "outputs": [],
   "source": []
  },
  {
   "cell_type": "markdown",
   "id": "60df5bfa",
   "metadata": {},
   "source": [
    "## Day 4"
   ]
  },
  {
   "cell_type": "markdown",
   "id": "d7738ff7",
   "metadata": {},
   "source": [
    "### Task1"
   ]
  },
  {
   "cell_type": "code",
   "execution_count": 25,
   "id": "6959936f",
   "metadata": {},
   "outputs": [],
   "source": [
    "with open('day4_input.txt') as f:\n",
    "    lines = f.readlines()\n",
    "    "
   ]
  },
  {
   "cell_type": "code",
   "execution_count": 26,
   "id": "b99fd2a6",
   "metadata": {},
   "outputs": [],
   "source": [
    "# print(lines)"
   ]
  },
  {
   "cell_type": "code",
   "execution_count": 27,
   "id": "b887c634",
   "metadata": {},
   "outputs": [
    {
     "name": "stdout",
     "output_type": "stream",
     "text": [
      "644\n"
     ]
    }
   ],
   "source": [
    "fully_contain = 0\n",
    "\n",
    "for line in lines:\n",
    "    n1, n2, n3, n4 = line.split(\",\")[0].split(\"-\")[0], line.split(\",\")[0].split(\"-\")[1], line.split(\",\")[1].split(\"-\")[0], line.split(\",\")[1].split(\"-\")[1].replace(\"\\n\", \"\")\n",
    "    \n",
    "    if (int(n1) >= int(n3) and int(n2) <= int(n4)) or (int(n3) >= int(n1) and int(n4) <= int(n2)):\n",
    "        fully_contain += 1\n",
    "\n",
    "print(fully_contain)"
   ]
  },
  {
   "cell_type": "code",
   "execution_count": null,
   "id": "23b02710",
   "metadata": {},
   "outputs": [],
   "source": []
  },
  {
   "cell_type": "markdown",
   "id": "e18e585a",
   "metadata": {},
   "source": [
    "### Task2"
   ]
  },
  {
   "cell_type": "code",
   "execution_count": 28,
   "id": "0bd1e4b8",
   "metadata": {},
   "outputs": [
    {
     "name": "stdout",
     "output_type": "stream",
     "text": [
      "926\n"
     ]
    }
   ],
   "source": [
    "overlap = 0\n",
    "\n",
    "for line in lines:\n",
    "    n1, n2, n3, n4 = line.split(\",\")[0].split(\"-\")[0], line.split(\",\")[0].split(\"-\")[1], line.split(\",\")[1].split(\"-\")[0], line.split(\",\")[1].split(\"-\")[1].replace(\"\\n\", \"\")\n",
    "    \n",
    "    for j in range(int(n1), int(n2) + 1):\n",
    "        if j >= int(n3) and j <= int(n4):\n",
    "            overlap += 1\n",
    "            break\n",
    "\n",
    "print(overlap)"
   ]
  },
  {
   "cell_type": "code",
   "execution_count": null,
   "id": "ac079562",
   "metadata": {},
   "outputs": [],
   "source": []
  }
 ],
 "metadata": {
  "kernelspec": {
   "display_name": "Python 3 (ipykernel)",
   "language": "python",
   "name": "python3"
  },
  "language_info": {
   "codemirror_mode": {
    "name": "ipython",
    "version": 3
   },
   "file_extension": ".py",
   "mimetype": "text/x-python",
   "name": "python",
   "nbconvert_exporter": "python",
   "pygments_lexer": "ipython3",
   "version": "3.8.11"
  },
  "vscode": {
   "interpreter": {
    "hash": "2b2243faa631384377c823394dc9b10ab281fd66f6334b5771c1c6004f74f42f"
   }
  }
 },
 "nbformat": 4,
 "nbformat_minor": 5
}
